{
 "cells": [
  {
   "cell_type": "code",
   "execution_count": 1,
   "metadata": {},
   "outputs": [],
   "source": [
    "library(\"rjson\")\n",
    "library(data.table)"
   ]
  },
  {
   "cell_type": "code",
   "execution_count": 3,
   "metadata": {},
   "outputs": [],
   "source": [
    "result <- fromJSON(file = \"data/carpetas-de-investigacion-pgj-de-la-ciudad-de-mexico_2019_Enero.json\")\n",
    "json_data_frame <- as.data.frame(result)"
   ]
  },
  {
   "cell_type": "code",
   "execution_count": 19,
   "metadata": {},
   "outputs": [
    {
     "data": {
      "text/html": [
       "<ol>\n",
       "\t<li><dl>\n",
       "\t<dt>$datasetid</dt>\n",
       "\t\t<dd>'carpetas-de-investigacion-pgj-de-la-ciudad-de-mexico'</dd>\n",
       "\t<dt>$recordid</dt>\n",
       "\t\t<dd>'458952ef790e60adf5ac8692efe2d0d011a5c133'</dd>\n",
       "\t<dt>$fields</dt>\n",
       "\t\t<dd><dl>\n",
       "\t<dt>$mes_hechos</dt>\n",
       "\t\t<dd>'Enero'</dd>\n",
       "\t<dt>$calle_hechos2</dt>\n",
       "\t\t<dd>'NA'</dd>\n",
       "\t<dt>$latitud</dt>\n",
       "\t\t<dd>'19.473802186957'</dd>\n",
       "\t<dt>$ao_inicio</dt>\n",
       "\t\t<dd>'2019'</dd>\n",
       "\t<dt>$fecha_inicio</dt>\n",
       "\t\t<dd>'2019-05-09 17:17'</dd>\n",
       "\t<dt>$calle_hechos</dt>\n",
       "\t\t<dd>'FERROCARRIL CENTRAL'</dd>\n",
       "\t<dt>$agencia</dt>\n",
       "\t\t<dd>'AZ-1'</dd>\n",
       "\t<dt>$alcaldia_hechos</dt>\n",
       "\t\t<dd>'AZCAPOTZALCO'</dd>\n",
       "\t<dt>$categoria_delito</dt>\n",
       "\t\t<dd>'DELITO DE BAJO IMPACTO'</dd>\n",
       "\t<dt>$fiscalia</dt>\n",
       "\t\t<dd>'INVESTIGACIÓN EN AZCAPOTZALCO'</dd>\n",
       "\t<dt>$unidad_investigacion</dt>\n",
       "\t\t<dd>'UI-3SD'</dd>\n",
       "\t<dt>$fecha_hechos</dt>\n",
       "\t\t<dd>'2019-01-18 18:30'</dd>\n",
       "\t<dt>$colonia_hechos</dt>\n",
       "\t\t<dd>'HOGARES FERROCARRILEROS'</dd>\n",
       "\t<dt>$geopoint</dt>\n",
       "\t\t<dd><ol class=list-inline>\n",
       "\t<li>19.473802187</li>\n",
       "\t<li>-99.1643812886</li>\n",
       "</ol>\n",
       "</dd>\n",
       "\t<dt>$ao_hechos</dt>\n",
       "\t\t<dd>'2019'</dd>\n",
       "\t<dt>$delito</dt>\n",
       "\t\t<dd>'DESPOJO'</dd>\n",
       "\t<dt>$mes_inicio</dt>\n",
       "\t\t<dd>'Mayo'</dd>\n",
       "\t<dt>$longitud</dt>\n",
       "\t\t<dd>'-99.1643812886394'</dd>\n",
       "</dl>\n",
       "</dd>\n",
       "\t<dt>$geometry</dt>\n",
       "\t\t<dd><dl>\n",
       "\t<dt>$type</dt>\n",
       "\t\t<dd>'Point'</dd>\n",
       "\t<dt>$coordinates</dt>\n",
       "\t\t<dd><ol class=list-inline>\n",
       "\t<li>-99.1643812886</li>\n",
       "\t<li>19.473802187</li>\n",
       "</ol>\n",
       "</dd>\n",
       "</dl>\n",
       "</dd>\n",
       "\t<dt>$record_timestamp</dt>\n",
       "\t\t<dd>'2019-09-10T22:43:42.397-05:00'</dd>\n",
       "</dl>\n",
       "</li>\n",
       "</ol>\n"
      ],
      "text/latex": [
       "\\begin{enumerate}\n",
       "\\item \\begin{description}\n",
       "\\item[\\$datasetid] 'carpetas-de-investigacion-pgj-de-la-ciudad-de-mexico'\n",
       "\\item[\\$recordid] '458952ef790e60adf5ac8692efe2d0d011a5c133'\n",
       "\\item[\\$fields] \\begin{description}\n",
       "\\item[\\$mes\\_hechos] 'Enero'\n",
       "\\item[\\$calle\\_hechos2] 'NA'\n",
       "\\item[\\$latitud] '19.473802186957'\n",
       "\\item[\\$ao\\_inicio] '2019'\n",
       "\\item[\\$fecha\\_inicio] '2019-05-09 17:17'\n",
       "\\item[\\$calle\\_hechos] 'FERROCARRIL CENTRAL'\n",
       "\\item[\\$agencia] 'AZ-1'\n",
       "\\item[\\$alcaldia\\_hechos] 'AZCAPOTZALCO'\n",
       "\\item[\\$categoria\\_delito] 'DELITO DE BAJO IMPACTO'\n",
       "\\item[\\$fiscalia] 'INVESTIGACIÓN EN AZCAPOTZALCO'\n",
       "\\item[\\$unidad\\_investigacion] 'UI-3SD'\n",
       "\\item[\\$fecha\\_hechos] '2019-01-18 18:30'\n",
       "\\item[\\$colonia\\_hechos] 'HOGARES FERROCARRILEROS'\n",
       "\\item[\\$geopoint] \\begin{enumerate*}\n",
       "\\item 19.473802187\n",
       "\\item -99.1643812886\n",
       "\\end{enumerate*}\n",
       "\n",
       "\\item[\\$ao\\_hechos] '2019'\n",
       "\\item[\\$delito] 'DESPOJO'\n",
       "\\item[\\$mes\\_inicio] 'Mayo'\n",
       "\\item[\\$longitud] '-99.1643812886394'\n",
       "\\end{description}\n",
       "\n",
       "\\item[\\$geometry] \\begin{description}\n",
       "\\item[\\$type] 'Point'\n",
       "\\item[\\$coordinates] \\begin{enumerate*}\n",
       "\\item -99.1643812886\n",
       "\\item 19.473802187\n",
       "\\end{enumerate*}\n",
       "\n",
       "\\end{description}\n",
       "\n",
       "\\item[\\$record\\_timestamp] '2019-09-10T22:43:42.397-05:00'\n",
       "\\end{description}\n",
       "\n",
       "\\end{enumerate}\n"
      ],
      "text/markdown": [
       "1. $datasetid\n",
       ":   'carpetas-de-investigacion-pgj-de-la-ciudad-de-mexico'\n",
       "$recordid\n",
       ":   '458952ef790e60adf5ac8692efe2d0d011a5c133'\n",
       "$fields\n",
       ":   $mes_hechos\n",
       ":   'Enero'\n",
       "$calle_hechos2\n",
       ":   'NA'\n",
       "$latitud\n",
       ":   '19.473802186957'\n",
       "$ao_inicio\n",
       ":   '2019'\n",
       "$fecha_inicio\n",
       ":   '2019-05-09 17:17'\n",
       "$calle_hechos\n",
       ":   'FERROCARRIL CENTRAL'\n",
       "$agencia\n",
       ":   'AZ-1'\n",
       "$alcaldia_hechos\n",
       ":   'AZCAPOTZALCO'\n",
       "$categoria_delito\n",
       ":   'DELITO DE BAJO IMPACTO'\n",
       "$fiscalia\n",
       ":   'INVESTIGACIÓN EN AZCAPOTZALCO'\n",
       "$unidad_investigacion\n",
       ":   'UI-3SD'\n",
       "$fecha_hechos\n",
       ":   '2019-01-18 18:30'\n",
       "$colonia_hechos\n",
       ":   'HOGARES FERROCARRILEROS'\n",
       "$geopoint\n",
       ":   1. 19.473802187\n",
       "2. -99.1643812886\n",
       "\n",
       "\n",
       "\n",
       "$ao_hechos\n",
       ":   '2019'\n",
       "$delito\n",
       ":   'DESPOJO'\n",
       "$mes_inicio\n",
       ":   'Mayo'\n",
       "$longitud\n",
       ":   '-99.1643812886394'\n",
       "\n",
       "\n",
       "\n",
       "$geometry\n",
       ":   $type\n",
       ":   'Point'\n",
       "$coordinates\n",
       ":   1. -99.1643812886\n",
       "2. 19.473802187\n",
       "\n",
       "\n",
       "\n",
       "\n",
       "\n",
       "\n",
       "$record_timestamp\n",
       ":   '2019-09-10T22:43:42.397-05:00'\n",
       "\n",
       "\n",
       "\n",
       "\n",
       "\n"
      ],
      "text/plain": [
       "[[1]]\n",
       "[[1]]$datasetid\n",
       "[1] \"carpetas-de-investigacion-pgj-de-la-ciudad-de-mexico\"\n",
       "\n",
       "[[1]]$recordid\n",
       "[1] \"458952ef790e60adf5ac8692efe2d0d011a5c133\"\n",
       "\n",
       "[[1]]$fields\n",
       "[[1]]$fields$mes_hechos\n",
       "[1] \"Enero\"\n",
       "\n",
       "[[1]]$fields$calle_hechos2\n",
       "[1] \"NA\"\n",
       "\n",
       "[[1]]$fields$latitud\n",
       "[1] \"19.473802186957\"\n",
       "\n",
       "[[1]]$fields$ao_inicio\n",
       "[1] \"2019\"\n",
       "\n",
       "[[1]]$fields$fecha_inicio\n",
       "[1] \"2019-05-09 17:17\"\n",
       "\n",
       "[[1]]$fields$calle_hechos\n",
       "[1] \"FERROCARRIL CENTRAL\"\n",
       "\n",
       "[[1]]$fields$agencia\n",
       "[1] \"AZ-1\"\n",
       "\n",
       "[[1]]$fields$alcaldia_hechos\n",
       "[1] \"AZCAPOTZALCO\"\n",
       "\n",
       "[[1]]$fields$categoria_delito\n",
       "[1] \"DELITO DE BAJO IMPACTO\"\n",
       "\n",
       "[[1]]$fields$fiscalia\n",
       "[1] \"INVESTIGACIÓN EN AZCAPOTZALCO\"\n",
       "\n",
       "[[1]]$fields$unidad_investigacion\n",
       "[1] \"UI-3SD\"\n",
       "\n",
       "[[1]]$fields$fecha_hechos\n",
       "[1] \"2019-01-18 18:30\"\n",
       "\n",
       "[[1]]$fields$colonia_hechos\n",
       "[1] \"HOGARES FERROCARRILEROS\"\n",
       "\n",
       "[[1]]$fields$geopoint\n",
       "[1]  19.47380 -99.16438\n",
       "\n",
       "[[1]]$fields$ao_hechos\n",
       "[1] \"2019\"\n",
       "\n",
       "[[1]]$fields$delito\n",
       "[1] \"DESPOJO\"\n",
       "\n",
       "[[1]]$fields$mes_inicio\n",
       "[1] \"Mayo\"\n",
       "\n",
       "[[1]]$fields$longitud\n",
       "[1] \"-99.1643812886394\"\n",
       "\n",
       "\n",
       "[[1]]$geometry\n",
       "[[1]]$geometry$type\n",
       "[1] \"Point\"\n",
       "\n",
       "[[1]]$geometry$coordinates\n",
       "[1] -99.16438  19.47380\n",
       "\n",
       "\n",
       "[[1]]$record_timestamp\n",
       "[1] \"2019-09-10T22:43:42.397-05:00\"\n",
       "\n"
      ]
     },
     "metadata": {},
     "output_type": "display_data"
    }
   ],
   "source": [
    "result[2]"
   ]
  },
  {
   "cell_type": "code",
   "execution_count": 7,
   "metadata": {},
   "outputs": [
    {
     "name": "stdout",
     "output_type": "stream",
     "text": [
      "'data.frame':\t2 obs. of  447207 variables:\n",
      " $ datasetid                        : Factor w/ 1 level \"carpetas-de-investigacion-pgj-de-la-ciudad-de-mexico\": 1 1\n",
      " $ recordid                         : Factor w/ 1 level \"48a9581270dcde00df795f323207e8a8a08e0cb2\": 1 1\n",
      " $ fields.mes_hechos                : Factor w/ 1 level \"Enero\": 1 1\n",
      " $ fields.calle_hechos2             : Factor w/ 1 level \"ENTRE EL EJE 5 SUR MARCELINO BUENDIA Y AV.RIO FRIO\": 1 1\n",
      " $ fields.latitud                   : Factor w/ 1 level \"19.3788708406232\": 1 1\n",
      " $ fields.ao_inicio                 : Factor w/ 1 level \"2019\": 1 1\n",
      " $ fields.fecha_inicio              : Factor w/ 1 level \"2019-05-09 05:43\": 1 1\n",
      " $ fields.calle_hechos              : Factor w/ 1 level \"ANILLO PERIFERICO\": 1 1\n",
      " $ fields.agencia                   : Factor w/ 1 level \"IZP-5\": 1 1\n",
      " $ fields.alcaldia_hechos           : Factor w/ 1 level \"IZTAPALAPA\": 1 1\n",
      " $ fields.categoria_delito          : Factor w/ 1 level \"DELITO DE BAJO IMPACTO\": 1 1\n",
      " $ fields.fiscalia                  : Factor w/ 1 level \"INVESTIGACIÓN EN IZTAPALAPA\": 1 1\n",
      " $ fields.unidad_investigacion      : Factor w/ 1 level \"UI-2SD\": 1 1\n",
      " $ fields.fecha_hechos              : Factor w/ 1 level \"2019-01-12 12:00\": 1 1\n",
      " $ fields.colonia_hechos            : Factor w/ 1 level \"CHINAMPAC DE JUÁREZ\": 1 1\n",
      " $ fields.geopoint                  : num  19.4 -99.1\n",
      " $ fields.ao_hechos                 : Factor w/ 1 level \"2019\": 1 1\n",
      " $ fields.delito                    : Factor w/ 1 level \"ABUSO DE CONFIANZA\": 1 1\n",
      " $ fields.mes_inicio                : Factor w/ 1 level \"Mayo\": 1 1\n",
      " $ fields.longitud                  : Factor w/ 1 level \"-99.0599097097887\": 1 1\n",
      " $ geometry.type                    : Factor w/ 1 level \"Point\": 1 1\n",
      " $ geometry.coordinates             : num  -99.1 19.4\n",
      " $ record_timestamp                 : Factor w/ 1 level \"2019-09-10T22:43:42.397-05:00\": 1 1\n",
      " $ datasetid.1                      : Factor w/ 1 level \"carpetas-de-investigacion-pgj-de-la-ciudad-de-mexico\": 1 1\n",
      " $ recordid.1                       : Factor w/ 1 level \"458952ef790e60adf5ac8692efe2d0d011a5c133\": 1 1\n",
      " $ fields.mes_hechos.1              : Factor w/ 1 level \"Enero\": 1 1\n",
      " $ fields.calle_hechos2.1           : Factor w/ 1 level \"NA\": 1 1\n",
      " $ fields.latitud.1                 : Factor w/ 1 level \"19.473802186957\": 1 1\n",
      " $ fields.ao_inicio.1               : Factor w/ 1 level \"2019\": 1 1\n",
      " $ fields.fecha_inicio.1            : Factor w/ 1 level \"2019-05-09 17:17\": 1 1\n",
      " $ fields.calle_hechos.1            : Factor w/ 1 level \"FERROCARRIL CENTRAL\": 1 1\n",
      " $ fields.agencia.1                 : Factor w/ 1 level \"AZ-1\": 1 1\n",
      " $ fields.alcaldia_hechos.1         : Factor w/ 1 level \"AZCAPOTZALCO\": 1 1\n",
      " $ fields.categoria_delito.1        : Factor w/ 1 level \"DELITO DE BAJO IMPACTO\": 1 1\n",
      " $ fields.fiscalia.1                : Factor w/ 1 level \"INVESTIGACIÓN EN AZCAPOTZALCO\": 1 1\n",
      " $ fields.unidad_investigacion.1    : Factor w/ 1 level \"UI-3SD\": 1 1\n",
      " $ fields.fecha_hechos.1            : Factor w/ 1 level \"2019-01-18 18:30\": 1 1\n",
      " $ fields.colonia_hechos.1          : Factor w/ 1 level \"HOGARES FERROCARRILEROS\": 1 1\n",
      " $ fields.geopoint.1                : num  19.5 -99.2\n",
      " $ fields.ao_hechos.1               : Factor w/ 1 level \"2019\": 1 1\n",
      " $ fields.delito.1                  : Factor w/ 1 level \"DESPOJO\": 1 1\n",
      " $ fields.mes_inicio.1              : Factor w/ 1 level \"Mayo\": 1 1\n",
      " $ fields.longitud.1                : Factor w/ 1 level \"-99.1643812886394\": 1 1\n",
      " $ geometry.type.1                  : Factor w/ 1 level \"Point\": 1 1\n",
      " $ geometry.coordinates.1           : num  -99.2 19.5\n",
      " $ record_timestamp.1               : Factor w/ 1 level \"2019-09-10T22:43:42.397-05:00\": 1 1\n",
      " $ datasetid.2                      : Factor w/ 1 level \"carpetas-de-investigacion-pgj-de-la-ciudad-de-mexico\": 1 1\n",
      " $ recordid.2                       : Factor w/ 1 level \"ce0078fe3951d04ecb883cdf955ca8cef05a10a9\": 1 1\n",
      " $ fields.mes_hechos.2              : Factor w/ 1 level \"Enero\": 1 1\n",
      " $ fields.calle_hechos2.2           : Factor w/ 1 level \"NA\": 1 1\n",
      " $ fields.latitud.2                 : Factor w/ 1 level \"19.2317711954398\": 1 1\n",
      " $ fields.ao_inicio.2               : Factor w/ 1 level \"2019\": 1 1\n",
      " $ fields.fecha_inicio.2            : Factor w/ 1 level \"2019-05-10 14:54\": 1 1\n",
      " $ fields.calle_hechos.2            : Factor w/ 1 level \"CIRCUITO MARTINEZ DE CASTRO\": 1 1\n",
      " $ fields.agencia.2                 : Factor w/ 1 level \"XO-1\": 1 1\n",
      " $ fields.alcaldia_hechos.2         : Factor w/ 1 level \"XOCHIMILCO\": 1 1\n",
      " $ fields.categoria_delito.2        : Factor w/ 1 level \"DELITO DE BAJO IMPACTO\": 1 1\n",
      " $ fields.fiscalia.2                : Factor w/ 1 level \"INVESTIGACIÓN EN XOCHIMILCO\": 1 1\n",
      " $ fields.unidad_investigacion.2    : Factor w/ 1 level \"UI-1SD\": 1 1\n",
      " $ fields.fecha_hechos.2            : Factor w/ 1 level \"2019-01-19 12:10\": 1 1\n",
      " $ fields.colonia_hechos.2          : Factor w/ 1 level \"SAN MATEO XALPA\": 1 1\n",
      " $ fields.geopoint.2                : num  19.2 -99.1\n",
      " $ fields.ao_hechos.2               : Factor w/ 1 level \"2019\": 1 1\n",
      " $ fields.delito.2                  : Factor w/ 1 level \"TENTATIVA DE EXTORSION\": 1 1\n",
      " $ fields.mes_inicio.2              : Factor w/ 1 level \"Mayo\": 1 1\n",
      " $ fields.longitud.2                : Factor w/ 1 level \"-99.1276496995935\": 1 1\n",
      " $ geometry.type.2                  : Factor w/ 1 level \"Point\": 1 1\n",
      " $ geometry.coordinates.2           : num  -99.1 19.2\n",
      " $ record_timestamp.2               : Factor w/ 1 level \"2019-09-10T22:43:42.397-05:00\": 1 1\n",
      " $ datasetid.3                      : Factor w/ 1 level \"carpetas-de-investigacion-pgj-de-la-ciudad-de-mexico\": 1 1\n",
      " $ recordid.3                       : Factor w/ 1 level \"68fe183fc6e17702878d98bafb7a3383524ae205\": 1 1\n",
      " $ fields.mes_hechos.3              : Factor w/ 1 level \"Enero\": 1 1\n",
      " $ fields.calle_hechos2.3           : Factor w/ 1 level \"NA\": 1 1\n",
      " $ fields.latitud.3                 : Factor w/ 1 level \"19.4167703812713\": 1 1\n",
      " $ fields.ao_inicio.3               : Factor w/ 1 level \"2019\": 1 1\n",
      " $ fields.fecha_inicio.3            : Factor w/ 1 level \"2019-05-11 17:10\": 1 1\n",
      " $ fields.calle_hechos.3            : Factor w/ 1 level \"CALZADA IGNACIO ZARAGOZA\": 1 1\n",
      " $ fields.agencia.3                 : Factor w/ 1 level \"VC-5\": 1 1\n",
      " $ fields.alcaldia_hechos.3         : Factor w/ 1 level \"VENUSTIANO CARRANZA\": 1 1\n",
      " $ fields.categoria_delito.3        : Factor w/ 1 level \"DELITO DE BAJO IMPACTO\": 1 1\n",
      " $ fields.fiscalia.3                : Factor w/ 1 level \"INVESTIGACIÓN EN VENUSTIANO CARRANZA\": 1 1\n",
      " $ fields.unidad_investigacion.3    : Factor w/ 1 level \"UI-1SD\": 1 1\n",
      " $ fields.fecha_hechos.3            : Factor w/ 1 level \"2019-01-23 18:30\": 1 1\n",
      " $ fields.colonia_hechos.3          : Factor w/ 1 level \"VALENTÍN GÓMEZ FARIAS\": 1 1\n",
      " $ fields.geopoint.3                : num  19.4 -99.1\n",
      " $ fields.ao_hechos.3               : Factor w/ 1 level \"2019\": 1 1\n",
      " $ fields.delito.3                  : Factor w/ 1 level \"ROBO A PASAJERO / CONDUCTOR DE VEHICULO CON VIOLENCIA\": 1 1\n",
      " $ fields.mes_inicio.3              : Factor w/ 1 level \"Mayo\": 1 1\n",
      " $ fields.longitud.3                : Factor w/ 1 level \"-99.091824958562\": 1 1\n",
      " $ geometry.type.3                  : Factor w/ 1 level \"Point\": 1 1\n",
      " $ geometry.coordinates.3           : num  -99.1 19.4\n",
      " $ record_timestamp.3               : Factor w/ 1 level \"2019-09-10T22:43:42.397-05:00\": 1 1\n",
      " $ datasetid.4                      : Factor w/ 1 level \"carpetas-de-investigacion-pgj-de-la-ciudad-de-mexico\": 1 1\n",
      " $ recordid.4                       : Factor w/ 1 level \"ca2509a372a52bc674590630af7197eaebbcc278\": 1 1\n",
      " $ fields.mes_hechos.4              : Factor w/ 1 level \"Enero\": 1 1\n",
      " $ fields.calle_hechos2.4           : Factor w/ 1 level \"NA\": 1 1\n",
      " $ fields.latitud.4                 : Factor w/ 1 level \"19.3051379786911\": 1 1\n",
      " $ fields.ao_inicio.4               : Factor w/ 1 level \"2019\": 1 1\n",
      " $ fields.fecha_inicio.4            : Factor w/ 1 level \"2019-05-11 21:41\": 1 1\n",
      "  [list output truncated]\n"
     ]
    }
   ],
   "source": [
    "str(json_data_frame)"
   ]
  },
  {
   "cell_type": "code",
   "execution_count": 8,
   "metadata": {},
   "outputs": [
    {
     "data": {
      "text/html": [
       "<ol class=list-inline>\n",
       "\t<li>2</li>\n",
       "\t<li>447207</li>\n",
       "</ol>\n"
      ],
      "text/latex": [
       "\\begin{enumerate*}\n",
       "\\item 2\n",
       "\\item 447207\n",
       "\\end{enumerate*}\n"
      ],
      "text/markdown": [
       "1. 2\n",
       "2. 447207\n",
       "\n",
       "\n"
      ],
      "text/plain": [
       "[1]      2 447207"
      ]
     },
     "metadata": {},
     "output_type": "display_data"
    }
   ],
   "source": [
    "dim(json_data_frame)"
   ]
  },
  {
   "cell_type": "code",
   "execution_count": 9,
   "metadata": {},
   "outputs": [
    {
     "data": {
      "text/html": [
       "2"
      ],
      "text/latex": [
       "2"
      ],
      "text/markdown": [
       "2"
      ],
      "text/plain": [
       "[1] 2"
      ]
     },
     "metadata": {},
     "output_type": "display_data"
    }
   ],
   "source": [
    "nrow(json_data_frame)"
   ]
  },
  {
   "cell_type": "code",
   "execution_count": 10,
   "metadata": {},
   "outputs": [
    {
     "data": {
      "text/html": [
       "447207"
      ],
      "text/latex": [
       "447207"
      ],
      "text/markdown": [
       "447207"
      ],
      "text/plain": [
       "[1] 447207"
      ]
     },
     "metadata": {},
     "output_type": "display_data"
    }
   ],
   "source": [
    "ncol(json_data_frame)"
   ]
  },
  {
   "cell_type": "code",
   "execution_count": 15,
   "metadata": {},
   "outputs": [
    {
     "data": {
      "text/html": [
       "<table>\n",
       "<thead><tr><th scope=col>datasetid</th></tr></thead>\n",
       "<tbody>\n",
       "\t<tr><td>carpetas-de-investigacion-pgj-de-la-ciudad-de-mexico</td></tr>\n",
       "\t<tr><td>carpetas-de-investigacion-pgj-de-la-ciudad-de-mexico</td></tr>\n",
       "</tbody>\n",
       "</table>\n"
      ],
      "text/latex": [
       "\\begin{tabular}{r|l}\n",
       " datasetid\\\\\n",
       "\\hline\n",
       "\t carpetas-de-investigacion-pgj-de-la-ciudad-de-mexico\\\\\n",
       "\t carpetas-de-investigacion-pgj-de-la-ciudad-de-mexico\\\\\n",
       "\\end{tabular}\n"
      ],
      "text/markdown": [
       "\n",
       "| datasetid |\n",
       "|---|\n",
       "| carpetas-de-investigacion-pgj-de-la-ciudad-de-mexico |\n",
       "| carpetas-de-investigacion-pgj-de-la-ciudad-de-mexico |\n",
       "\n"
      ],
      "text/plain": [
       "  datasetid                                           \n",
       "1 carpetas-de-investigacion-pgj-de-la-ciudad-de-mexico\n",
       "2 carpetas-de-investigacion-pgj-de-la-ciudad-de-mexico"
      ]
     },
     "metadata": {},
     "output_type": "display_data"
    }
   ],
   "source": [
    "json_data_frame[1]"
   ]
  },
  {
   "cell_type": "code",
   "execution_count": 16,
   "metadata": {},
   "outputs": [
    {
     "ename": "ERROR",
     "evalue": "Error in sumary(json_data_frame): no se pudo encontrar la función \"sumary\"\n",
     "output_type": "error",
     "traceback": [
      "Error in sumary(json_data_frame): no se pudo encontrar la función \"sumary\"\nTraceback:\n"
     ]
    }
   ],
   "source": [
    "sumary(json_data_frame)"
   ]
  },
  {
   "cell_type": "code",
   "execution_count": 17,
   "metadata": {},
   "outputs": [
    {
     "name": "stderr",
     "output_type": "stream",
     "text": [
      "ERROR while rich displaying an object: Error in sprintf(wrap, header, body): 'fmt' length exceeds maximal format length 8192\n",
      "\n",
      "Traceback:\n",
      "1. FUN(X[[i]], ...)\n",
      "2. tryCatch(withCallingHandlers({\n",
      " .     if (!mime %in% names(repr::mime2repr)) \n",
      " .         stop(\"No repr_* for mimetype \", mime, \" in repr::mime2repr\")\n",
      " .     rpr <- repr::mime2repr[[mime]](obj)\n",
      " .     if (is.null(rpr)) \n",
      " .         return(NULL)\n",
      " .     prepare_content(is.raw(rpr), rpr)\n",
      " . }, error = error_handler), error = outer_handler)\n",
      "3. tryCatchList(expr, classes, parentenv, handlers)\n",
      "4. tryCatchOne(expr, names, parentenv, handlers[[1L]])\n",
      "5. doTryCatch(return(expr), name, parentenv, handler)\n",
      "6. withCallingHandlers({\n",
      " .     if (!mime %in% names(repr::mime2repr)) \n",
      " .         stop(\"No repr_* for mimetype \", mime, \" in repr::mime2repr\")\n",
      " .     rpr <- repr::mime2repr[[mime]](obj)\n",
      " .     if (is.null(rpr)) \n",
      " .         return(NULL)\n",
      " .     prepare_content(is.raw(rpr), rpr)\n",
      " . }, error = error_handler)\n",
      "7. repr::mime2repr[[mime]](obj)\n",
      "8. repr_latex.data.frame(obj)\n",
      "9. repr_matrix_generic(obj, sprintf(\"\\\\begin{tabular}{%s}\\n%%s%%s\\\\end{tabular}\\n\", \n",
      " .     cols), \"%s\\\\\\\\\\n\\\\hline\\n\", \"  &\", \" %s &\", \"%s\", \"\\t%s\\\\\\\\\\n\", \n",
      " .     \"%s &\", \" %s &\", escape_fun = latex_escape_vec, ...)\n",
      "10. sprintf(wrap, header, body)\n"
     ]
    },
    {
     "data": {
      "text/html": [
       "<table>\n",
       "<thead><tr><th scope=col>datasetid</th><th scope=col>recordid</th><th scope=col>fields.mes_hechos</th><th scope=col>fields.calle_hechos2</th><th scope=col>fields.latitud</th><th scope=col>fields.ao_inicio</th><th scope=col>fields.fecha_inicio</th><th scope=col>fields.calle_hechos</th><th scope=col>fields.agencia</th><th scope=col>fields.alcaldia_hechos</th><th scope=col>...</th><th scope=col>fields.fecha_hechos.19520</th><th scope=col>fields.colonia_hechos.19520</th><th scope=col>fields.geopoint.18928</th><th scope=col>fields.ao_hechos.19520</th><th scope=col>fields.delito.19520</th><th scope=col>fields.mes_inicio.19520</th><th scope=col>fields.longitud.19520</th><th scope=col>geometry.type.18928</th><th scope=col>geometry.coordinates.18928</th><th scope=col>record_timestamp.19520</th></tr></thead>\n",
       "<tbody>\n",
       "\t<tr><td>carpetas-de-investigacion-pgj-de-la-ciudad-de-mexico</td><td>48a9581270dcde00df795f323207e8a8a08e0cb2            </td><td>Enero                                               </td><td>ENTRE EL EJE 5 SUR MARCELINO BUENDIA Y AV.RIO FRIO  </td><td>19.3788708406232                                    </td><td>2019                                                </td><td>2019-05-09 05:43                                    </td><td>ANILLO PERIFERICO                                   </td><td>IZP-5                                               </td><td>IZTAPALAPA                                          </td><td>...                                                 </td><td>2019-01-25 11:00                                    </td><td>GENERAL IGNACIO ZARAGOZA                            </td><td> 19.41413                                           </td><td>2019                                                </td><td>VIOLENCIA FAMILIAR                                  </td><td>Agosto                                              </td><td>-99.0941631705218                                   </td><td>Point                                               </td><td>-99.09416                                           </td><td>2019-09-10T22:43:42.397-05:00                       </td></tr>\n",
       "\t<tr><td>carpetas-de-investigacion-pgj-de-la-ciudad-de-mexico</td><td>48a9581270dcde00df795f323207e8a8a08e0cb2            </td><td>Enero                                               </td><td>ENTRE EL EJE 5 SUR MARCELINO BUENDIA Y AV.RIO FRIO  </td><td>19.3788708406232                                    </td><td>2019                                                </td><td>2019-05-09 05:43                                    </td><td>ANILLO PERIFERICO                                   </td><td>IZP-5                                               </td><td>IZTAPALAPA                                          </td><td>...                                                 </td><td>2019-01-25 11:00                                    </td><td>GENERAL IGNACIO ZARAGOZA                            </td><td>-99.09416                                           </td><td>2019                                                </td><td>VIOLENCIA FAMILIAR                                  </td><td>Agosto                                              </td><td>-99.0941631705218                                   </td><td>Point                                               </td><td> 19.41413                                           </td><td>2019-09-10T22:43:42.397-05:00                       </td></tr>\n",
       "</tbody>\n",
       "</table>\n"
      ],
      "text/markdown": [
       "\n",
       "| datasetid | recordid | fields.mes_hechos | fields.calle_hechos2 | fields.latitud | fields.ao_inicio | fields.fecha_inicio | fields.calle_hechos | fields.agencia | fields.alcaldia_hechos | ... | fields.fecha_hechos.19520 | fields.colonia_hechos.19520 | fields.geopoint.18928 | fields.ao_hechos.19520 | fields.delito.19520 | fields.mes_inicio.19520 | fields.longitud.19520 | geometry.type.18928 | geometry.coordinates.18928 | record_timestamp.19520 |\n",
       "|---|---|---|---|---|---|---|---|---|---|---|---|---|---|---|---|---|---|---|---|---|\n",
       "| carpetas-de-investigacion-pgj-de-la-ciudad-de-mexico | 48a9581270dcde00df795f323207e8a8a08e0cb2             | Enero                                                | ENTRE EL EJE 5 SUR MARCELINO BUENDIA Y AV.RIO FRIO   | 19.3788708406232                                     | 2019                                                 | 2019-05-09 05:43                                     | ANILLO PERIFERICO                                    | IZP-5                                                | IZTAPALAPA                                           | ...                                                  | 2019-01-25 11:00                                     | GENERAL IGNACIO ZARAGOZA                             |  19.41413                                            | 2019                                                 | VIOLENCIA FAMILIAR                                   | Agosto                                               | -99.0941631705218                                    | Point                                                | -99.09416                                            | 2019-09-10T22:43:42.397-05:00                        |\n",
       "| carpetas-de-investigacion-pgj-de-la-ciudad-de-mexico | 48a9581270dcde00df795f323207e8a8a08e0cb2             | Enero                                                | ENTRE EL EJE 5 SUR MARCELINO BUENDIA Y AV.RIO FRIO   | 19.3788708406232                                     | 2019                                                 | 2019-05-09 05:43                                     | ANILLO PERIFERICO                                    | IZP-5                                                | IZTAPALAPA                                           | ...                                                  | 2019-01-25 11:00                                     | GENERAL IGNACIO ZARAGOZA                             | -99.09416                                            | 2019                                                 | VIOLENCIA FAMILIAR                                   | Agosto                                               | -99.0941631705218                                    | Point                                                |  19.41413                                            | 2019-09-10T22:43:42.397-05:00                        |\n",
       "\n"
      ],
      "text/plain": [
       "  datasetid                                           \n",
       "1 carpetas-de-investigacion-pgj-de-la-ciudad-de-mexico\n",
       "2 carpetas-de-investigacion-pgj-de-la-ciudad-de-mexico\n",
       "  recordid                                 fields.mes_hechos\n",
       "1 48a9581270dcde00df795f323207e8a8a08e0cb2 Enero            \n",
       "2 48a9581270dcde00df795f323207e8a8a08e0cb2 Enero            \n",
       "  fields.calle_hechos2                               fields.latitud  \n",
       "1 ENTRE EL EJE 5 SUR MARCELINO BUENDIA Y AV.RIO FRIO 19.3788708406232\n",
       "2 ENTRE EL EJE 5 SUR MARCELINO BUENDIA Y AV.RIO FRIO 19.3788708406232\n",
       "  fields.ao_inicio fields.fecha_inicio fields.calle_hechos fields.agencia\n",
       "1 2019             2019-05-09 05:43    ANILLO PERIFERICO   IZP-5         \n",
       "2 2019             2019-05-09 05:43    ANILLO PERIFERICO   IZP-5         \n",
       "  fields.alcaldia_hechos ... fields.fecha_hechos.19520\n",
       "1 IZTAPALAPA             ... 2019-01-25 11:00         \n",
       "2 IZTAPALAPA             ... 2019-01-25 11:00         \n",
       "  fields.colonia_hechos.19520 fields.geopoint.18928 fields.ao_hechos.19520\n",
       "1 GENERAL IGNACIO ZARAGOZA     19.41413             2019                  \n",
       "2 GENERAL IGNACIO ZARAGOZA    -99.09416             2019                  \n",
       "  fields.delito.19520 fields.mes_inicio.19520 fields.longitud.19520\n",
       "1 VIOLENCIA FAMILIAR  Agosto                  -99.0941631705218    \n",
       "2 VIOLENCIA FAMILIAR  Agosto                  -99.0941631705218    \n",
       "  geometry.type.18928 geometry.coordinates.18928 record_timestamp.19520       \n",
       "1 Point               -99.09416                  2019-09-10T22:43:42.397-05:00\n",
       "2 Point                19.41413                  2019-09-10T22:43:42.397-05:00"
      ]
     },
     "metadata": {},
     "output_type": "display_data"
    }
   ],
   "source": [
    "head(json_data_frame)"
   ]
  }
 ],
 "metadata": {
  "kernelspec": {
   "display_name": "R",
   "language": "R",
   "name": "ir"
  },
  "language_info": {
   "codemirror_mode": "r",
   "file_extension": ".r",
   "mimetype": "text/x-r-source",
   "name": "R",
   "pygments_lexer": "r",
   "version": "3.6.1"
  }
 },
 "nbformat": 4,
 "nbformat_minor": 2
}
