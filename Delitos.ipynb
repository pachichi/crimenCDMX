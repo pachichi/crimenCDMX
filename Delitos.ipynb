{
 "cells": [
  {
   "cell_type": "markdown",
   "metadata": {
    "heading_collapsed": true
   },
   "source": [
    "# Bibliotecas\n"
   ]
  },
  {
   "cell_type": "code",
   "execution_count": 1,
   "metadata": {
    "ExecuteTime": {
     "end_time": "2020-01-14T04:19:35.721555Z",
     "start_time": "2020-01-14T04:19:28.518882Z"
    },
    "hidden": true
   },
   "outputs": [],
   "source": [
    "import pandas as pd\n",
    "import json\n",
    "json_normalize = pd.io.json.json_normalize\n",
    "import numpy as np\n",
    "import matplotlib.pyplot as plt"
   ]
  },
  {
   "cell_type": "code",
   "execution_count": 2,
   "metadata": {
    "ExecuteTime": {
     "end_time": "2020-01-14T04:19:36.819853Z",
     "start_time": "2020-01-14T04:19:35.753566Z"
    },
    "hidden": true
   },
   "outputs": [],
   "source": [
    "with open(\"data/carpetas-de-investigacion-pgj-de-la-ciudad-de-mexico_2019_Febrero.json\", \"r\") as read_file:\n",
    "    data = json.load(read_file)"
   ]
  },
  {
   "cell_type": "code",
   "execution_count": 3,
   "metadata": {
    "ExecuteTime": {
     "end_time": "2020-01-14T04:19:36.833608Z",
     "start_time": "2020-01-14T04:19:36.823090Z"
    },
    "hidden": true
   },
   "outputs": [],
   "source": [
    "# Categoria de delitos\n",
    "bajoimpacto = ['DELITO DE BAJO IMPACTO', 'ROBO A PASAJERO A BORDO DE MICROBUS CON Y SIN VIOLENCIA',\n",
    "               'ROBO A PASAJERO A BORDO DEL METRO CON Y SIN VIOLENCIA',\n",
    "               'ROBO A TRANSEUNTE EN VÍA PÚBLICA CON Y SIN VIOLENCIA', \n",
    "               'ROBO A CUENTAHABIENTE SALIENDO DEL CAJERO CON VIOLENCIA']\n",
    "altoimpacto = ['HOMICIDIO DOLOSO','LESIONES DOLOSAS POR DISPARO DE ARMA DE FUEGO',\n",
    "               'ROBO A CASA HABITACIÓN CON VIOLENCIA', 'ROBO A NEGOCIO CON VIOLENCIA',\n",
    "               'ROBO A PASAJERO A BORDO DE TAXI CON VIOLENCIA', 'SECUESTRO', 'VIOLACIÓN']\n",
    "# Delitos\n",
    "alto_impacto = ['FEMINICIDIO','HOMICIDIO POR ARMA BLANCA', 'HOMICIDIO POR ARMA DE FUEGO',\n",
    "                'HOMICIDIO CULPOSO POR ARMA DE FUEGO','PLAGIO O SECUESTRO','PORNOGRAFIA INFANTIL','VIOLACION',\n",
    "                'VIOLACION TUMULTUARIA']\n",
    "bajo_impacto = ['ROBO A CASA HABITACION SIN VIOLENCIA','ROBO A PASAJERO A BORDO DE METRO SIN VIOLENCIA',\n",
    "                'ROBO A PASAJERO A BORDO DE PESERO COLECTIVO SIN VIOLENCIA','ROBO A PASAJERO A BORDO DE TRANSPORTE PÚBLICO SIN VIOLENCIA',\n",
    "                'ROBO DE ACCESORIOS DE AUTO','ROBO DE VEHICULO DE SERVICIO PARTICULAR SIN VIOLENCIA']"
   ]
  },
  {
   "cell_type": "markdown",
   "metadata": {},
   "source": [
    "# Limpiar datos"
   ]
  },
  {
   "cell_type": "markdown",
   "metadata": {
    "heading_collapsed": true
   },
   "source": [
    "## Dataframe de un solo mes"
   ]
  },
  {
   "cell_type": "code",
   "execution_count": 4,
   "metadata": {
    "ExecuteTime": {
     "end_time": "2020-01-14T04:20:53.163254Z",
     "start_time": "2020-01-14T04:20:53.154606Z"
    },
    "hidden": true
   },
   "outputs": [],
   "source": [
    "campos = ['fecha_hechos','fiscalia','agencia','unidad_investigacion','alcaldia_hechos',\n",
    "          'colonia_hechos','geopoint','categoria_delito','delito']"
   ]
  },
  {
   "cell_type": "code",
   "execution_count": 5,
   "metadata": {
    "ExecuteTime": {
     "end_time": "2020-01-14T04:21:00.396426Z",
     "start_time": "2020-01-14T04:20:59.903789Z"
    },
    "hidden": true
   },
   "outputs": [],
   "source": [
    "# Crear una tabla reducida con los campos a trabajar\n",
    "tabla_list = []\n",
    "i = 0\n",
    "for evento in data:\n",
    "    fila_list = []\n",
    "    for campo in campos:\n",
    "        try:\n",
    "            fila_list.append(evento['fields'][campo])\n",
    "        except:\n",
    "            fila_list.append('NA')\n",
    "            i += 1\n",
    "    tabla_list.append(fila_list)\n",
    "\n",
    "# Crear un dataframe\n",
    "df_crimen = pd.DataFrame(tabla_list,columns=campos)\n",
    "\n",
    "# Cambiar NA por NaN\n",
    "# df_crimen.replace('NA',np.nan, inplace=True)"
   ]
  },
  {
   "cell_type": "markdown",
   "metadata": {
    "heading_collapsed": true,
    "hidden": true
   },
   "source": [
    "### Ejemplo de limpieza de datos"
   ]
  },
  {
   "cell_type": "code",
   "execution_count": 9,
   "metadata": {
    "ExecuteTime": {
     "end_time": "2020-01-14T02:46:52.964049Z",
     "start_time": "2020-01-14T02:46:52.656004Z"
    },
    "hidden": true
   },
   "outputs": [
    {
     "data": {
      "text/plain": [
       "fecha_hechos            0\n",
       "fiscalia                0\n",
       "agencia                 0\n",
       "unidad_investigacion    0\n",
       "alcaldia_hechos         0\n",
       "colonia_hechos          0\n",
       "geopoint                0\n",
       "categoria_delito        0\n",
       "delito                  0\n",
       "dtype: int64"
      ]
     },
     "execution_count": 9,
     "metadata": {},
     "output_type": "execute_result"
    }
   ],
   "source": [
    "# Campos con datos invalidos (np.nan)\n",
    "df_crimen.isnull().sum()"
   ]
  },
  {
   "cell_type": "code",
   "execution_count": 10,
   "metadata": {
    "ExecuteTime": {
     "end_time": "2020-01-14T02:46:55.268763Z",
     "start_time": "2020-01-14T02:46:54.886908Z"
    },
    "hidden": true
   },
   "outputs": [
    {
     "data": {
      "text/plain": [
       "fecha_hechos              0\n",
       "fiscalia                  0\n",
       "agencia                   0\n",
       "unidad_investigacion      0\n",
       "alcaldia_hechos           0\n",
       "colonia_hechos          668\n",
       "geopoint                669\n",
       "categoria_delito          0\n",
       "delito                    0\n",
       "dtype: int64"
      ]
     },
     "execution_count": 10,
     "metadata": {},
     "output_type": "execute_result"
    }
   ],
   "source": [
    "# Campos sin algunos datos (ojo NA no es NaN) hay que aplicar un replace\n",
    "(df_crimen == 'NA').sum()"
   ]
  },
  {
   "cell_type": "code",
   "execution_count": 11,
   "metadata": {
    "ExecuteTime": {
     "end_time": "2020-01-14T02:47:07.321001Z",
     "start_time": "2020-01-14T02:47:07.194758Z"
    },
    "hidden": true
   },
   "outputs": [
    {
     "data": {
      "text/plain": [
       "fecha_hechos              0\n",
       "fiscalia                  0\n",
       "agencia                   0\n",
       "unidad_investigacion      0\n",
       "alcaldia_hechos           0\n",
       "colonia_hechos          668\n",
       "geopoint                669\n",
       "categoria_delito          0\n",
       "delito                    0\n",
       "dtype: int64"
      ]
     },
     "execution_count": 11,
     "metadata": {},
     "output_type": "execute_result"
    }
   ],
   "source": [
    "# Cambiar NA por NaN\n",
    "#df_crimen.replace('NA',np.nan, inplace=True)\n",
    "\n",
    "# Campos con datos invalidos\n",
    "df_crimen.isnull().sum()"
   ]
  },
  {
   "cell_type": "markdown",
   "metadata": {
    "heading_collapsed": true,
    "hidden": true
   },
   "source": [
    "### Grafica de Delitos vs. Incidencia"
   ]
  },
  {
   "cell_type": "code",
   "execution_count": 8,
   "metadata": {
    "ExecuteTime": {
     "end_time": "2020-01-13T03:22:50.482132Z",
     "start_time": "2020-01-13T03:22:49.268200Z"
    },
    "hidden": true
   },
   "outputs": [],
   "source": [
    "lista_delitos = []\n",
    "for delito in df_crimen['delito'].unique():\n",
    "    lista_delitos.append([delito,len(df_crimen[df_crimen['delito'] == delito])])\n",
    "df_delitos = pd.DataFrame(lista_delitos,columns = ['Delito' , 'Eventos'])\n",
    "\n",
    "# orden por delito más frecuente\n",
    "df_delitos.sort_values(by='Eventos',ascending=False,inplace=True)\n",
    "\n",
    "# rehacer los indices\n",
    "df_delitos.set_index(np.arange(len(lista_delitos))+1,inplace=True)"
   ]
  },
  {
   "cell_type": "code",
   "execution_count": 9,
   "metadata": {
    "ExecuteTime": {
     "end_time": "2020-01-13T03:22:52.416460Z",
     "start_time": "2020-01-13T03:22:50.484460Z"
    },
    "hidden": true
   },
   "outputs": [
    {
     "data": {
      "text/plain": [
       "<matplotlib.axes._subplots.AxesSubplot at 0x7efcabcb75c0>"
      ]
     },
     "execution_count": 9,
     "metadata": {},
     "output_type": "execute_result"
    },
    {
     "data": {
      "image/png": "[encoded data removed]",
      "text/plain": [
       "<Figure size 432x288 with 1 Axes>"
      ]
     },
     "metadata": {
      "needs_background": "light"
     },
     "output_type": "display_data"
    }
   ],
   "source": [
    "df_delitos.plot(y='Eventos',loglog=True)"
   ]
  },
  {
   "cell_type": "code",
   "execution_count": null,
   "metadata": {
    "hidden": true
   },
   "outputs": [],
   "source": [
    "dataframe.drop('nan',axis=1, inplace=True)\n",
    "mini_df = resea_panda.query(f\"LOCATION == '{code}' and INDICATOR == 'GDEXPRD' and MEASURE == 'MLN_USD'\")\n",
    "dataframe.to_csv(f'../data/papers_{journal}.csv')"
   ]
  },
  {
   "cell_type": "markdown",
   "metadata": {
    "ExecuteTime": {
     "end_time": "2020-01-13T08:31:17.439867Z",
     "start_time": "2020-01-13T08:31:16.946354Z"
    },
    "heading_collapsed": true
   },
   "source": [
    "# Distribution (test)\n"
   ]
  },
  {
   "cell_type": "code",
   "execution_count": 11,
   "metadata": {
    "ExecuteTime": {
     "end_time": "2020-01-13T03:23:48.173760Z",
     "start_time": "2020-01-13T03:23:46.356752Z"
    },
    "hidden": true
   },
   "outputs": [],
   "source": [
    "import scipy.stats as spt\n",
    "import powerlaw as plw"
   ]
  },
  {
   "cell_type": "code",
   "execution_count": 8,
   "metadata": {
    "ExecuteTime": {
     "end_time": "2020-01-12T02:53:30.540217Z",
     "start_time": "2020-01-12T02:53:30.195843Z"
    },
    "hidden": true
   },
   "outputs": [],
   "source": [
    "spt.beta"
   ]
  },
  {
   "cell_type": "code",
   "execution_count": 15,
   "metadata": {
    "ExecuteTime": {
     "end_time": "2020-01-12T07:01:38.985070Z",
     "start_time": "2020-01-12T07:01:38.970506Z"
    },
    "hidden": true
   },
   "outputs": [],
   "source": [
    "np.genfromtxt?"
   ]
  },
  {
   "cell_type": "code",
   "execution_count": 14,
   "metadata": {
    "ExecuteTime": {
     "end_time": "2020-01-12T06:27:09.172942Z",
     "start_time": "2020-01-12T06:27:09.049471Z"
    },
    "hidden": true
   },
   "outputs": [],
   "source": [
    "plw.Distribution?"
   ]
  },
  {
   "cell_type": "code",
   "execution_count": 10,
   "metadata": {
    "ExecuteTime": {
     "end_time": "2020-01-13T03:23:14.683812Z",
     "start_time": "2020-01-13T03:23:12.356903Z"
    },
    "hidden": true
   },
   "outputs": [],
   "source": [
    "import urllib\n",
    "urllib.request.urlretrieve('https://raw.github.com/jeffalstott/powerlaw/master/manuscript/words.txt', 'words.txt')\n",
    "words = np.genfromtxt('words.txt')"
   ]
  },
  {
   "cell_type": "code",
   "execution_count": 12,
   "metadata": {
    "ExecuteTime": {
     "end_time": "2020-01-13T03:23:55.661592Z",
     "start_time": "2020-01-13T03:23:55.050204Z"
    },
    "hidden": true
   },
   "outputs": [
    {
     "name": "stderr",
     "output_type": "stream",
     "text": [
      "Calculating best minimal value for power law fit\n",
      "/home/corvo/Documentos/ProyectosGit/crimenCDMX/powerlaw.py:700: RuntimeWarning: invalid value encountered in true_divide\n",
      "  (Theoretical_CDF * (1 - Theoretical_CDF))\n"
     ]
    }
   ],
   "source": [
    "fit = plw.Fit(words)"
   ]
  },
  {
   "cell_type": "code",
   "execution_count": 14,
   "metadata": {
    "ExecuteTime": {
     "end_time": "2020-01-13T03:23:59.993556Z",
     "start_time": "2020-01-13T03:23:59.979408Z"
    },
    "hidden": true
   },
   "outputs": [
    {
     "data": {
      "text/plain": [
       "2.023004831109283"
      ]
     },
     "execution_count": 14,
     "metadata": {},
     "output_type": "execute_result"
    }
   ],
   "source": [
    "fit.power_law.alpha"
   ]
  },
  {
   "cell_type": "code",
   "execution_count": 15,
   "metadata": {
    "ExecuteTime": {
     "end_time": "2020-01-13T03:24:15.867041Z",
     "start_time": "2020-01-13T03:24:15.860399Z"
    },
    "hidden": true
   },
   "outputs": [
    {
     "data": {
      "text/plain": [
       "'Likelihood'"
      ]
     },
     "execution_count": 15,
     "metadata": {},
     "output_type": "execute_result"
    }
   ],
   "source": [
    "fit.power_law.fit_method"
   ]
  },
  {
   "cell_type": "code",
   "execution_count": 20,
   "metadata": {
    "ExecuteTime": {
     "end_time": "2020-01-13T04:04:04.706594Z",
     "start_time": "2020-01-13T04:04:04.074982Z"
    },
    "hidden": true
   },
   "outputs": [
    {
     "data": {
      "text/plain": [
       "(array([1.2246e+04, 3.6510e+03, 1.8180e+03, 6.9200e+02, 2.4500e+02,\n",
       "        1.1900e+02, 5.4000e+01, 2.1000e+01, 6.0000e+00, 3.0000e+00]),\n",
       " array([0.        , 0.41487877, 0.82975754, 1.24463631, 1.65951507,\n",
       "        2.07439384, 2.48927261, 2.90415138, 3.31903015, 3.73390892,\n",
       "        4.14878768]),\n",
       " <a list of 10 Patch objects>)"
      ]
     },
     "execution_count": 20,
     "metadata": {},
     "output_type": "execute_result"
    },
    {
     "data": {
      "image/png": "[encoded data removed]",
      "text/plain": [
       "<Figure size 432x288 with 1 Axes>"
      ]
     },
     "metadata": {
      "needs_background": "light"
     },
     "output_type": "display_data"
    }
   ],
   "source": [
    "plt.hist(np.log10(words),log=True)"
   ]
  },
  {
   "cell_type": "code",
   "execution_count": 24,
   "metadata": {
    "ExecuteTime": {
     "end_time": "2020-01-13T04:05:34.129888Z",
     "start_time": "2020-01-13T04:05:33.565859Z"
    },
    "hidden": true
   },
   "outputs": [
    {
     "data": {
      "text/plain": [
       "(array([43., 19., 16., 22., 30., 20., 20., 14.,  6.,  6.]),\n",
       " array([0.      , 0.325042, 0.650084, 0.975126, 1.300168, 1.62521 ,\n",
       "        1.950252, 2.275294, 2.600336, 2.925378, 3.25042 ]),\n",
       " <a list of 10 Patch objects>)"
      ]
     },
     "execution_count": 24,
     "metadata": {},
     "output_type": "execute_result"
    },
    {
     "data": {
      "image/png": "[encoded data removed]",
      "text/plain": [
       "<Figure size 432x288 with 1 Axes>"
      ]
     },
     "metadata": {
      "needs_background": "light"
     },
     "output_type": "display_data"
    }
   ],
   "source": [
    "plt.hist(np.log10(df_delitos.Eventos.values),log=True)"
   ]
  },
  {
   "cell_type": "code",
   "execution_count": 30,
   "metadata": {
    "ExecuteTime": {
     "end_time": "2020-01-13T05:13:57.786516Z",
     "start_time": "2020-01-13T05:13:56.919678Z"
    },
    "hidden": true
   },
   "outputs": [
    {
     "data": {
      "text/plain": [
       "<matplotlib.axes._subplots.AxesSubplot at 0x7efc9ccabd30>"
      ]
     },
     "execution_count": 30,
     "metadata": {},
     "output_type": "execute_result"
    },
    {
     "data": {
      "image/png": "[encoded data removed]",
      "text/plain": [
       "<Figure size 432x288 with 1 Axes>"
      ]
     },
     "metadata": {
      "needs_background": "light"
     },
     "output_type": "display_data"
    }
   ],
   "source": [
    "plw.plot_pdf(df_delitos.Eventos.values,marker='o',ls='None',linear_bins=False)"
   ]
  },
  {
   "cell_type": "code",
   "execution_count": 30,
   "metadata": {
    "ExecuteTime": {
     "end_time": "2020-01-13T05:13:57.786516Z",
     "start_time": "2020-01-13T05:13:56.919678Z"
    },
    "hidden": true
   },
   "outputs": [
    {
     "data": {
      "text/plain": [
       "<matplotlib.axes._subplots.AxesSubplot at 0x7efc9ccabd30>"
      ]
     },
     "execution_count": 30,
     "metadata": {},
     "output_type": "execute_result"
    },
    {
     "data": {
      "image/png": "[encoded data removed]",
      "text/plain": [
       "<Figure size 432x288 with 1 Axes>"
      ]
     },
     "metadata": {
      "needs_background": "light"
     },
     "output_type": "display_data"
    }
   ],
   "source": [
    "plw.plot_pdf(df_delitos.Eventos.values,marker='o',ls='None',linear_bins=False)"
   ]
  },
  {
   "cell_type": "code",
   "execution_count": 32,
   "metadata": {
    "ExecuteTime": {
     "end_time": "2020-01-13T05:16:30.519183Z",
     "start_time": "2020-01-13T05:16:29.833042Z"
    },
    "hidden": true
   },
   "outputs": [
    {
     "data": {
      "text/plain": [
       "<matplotlib.axes._subplots.AxesSubplot at 0x7efc9c93db70>"
      ]
     },
     "execution_count": 32,
     "metadata": {},
     "output_type": "execute_result"
    },
    {
     "data": {
      "image/png": "[encoded data removed]",
      "text/plain": [
       "<Figure size 432x288 with 1 Axes>"
      ]
     },
     "metadata": {
      "needs_background": "light"
     },
     "output_type": "display_data"
    }
   ],
   "source": [
    "plw.plot_cdf(df_delitos.Eventos.values,marker='o',ls='None')"
   ]
  },
  {
   "cell_type": "code",
   "execution_count": 38,
   "metadata": {
    "ExecuteTime": {
     "end_time": "2020-01-13T05:19:03.361394Z",
     "start_time": "2020-01-13T05:19:02.441464Z"
    },
    "hidden": true
   },
   "outputs": [
    {
     "data": {
      "text/plain": [
       "<matplotlib.axes._subplots.AxesSubplot at 0x7efc9f4bf4a8>"
      ]
     },
     "execution_count": 38,
     "metadata": {},
     "output_type": "execute_result"
    },
    {
     "data": {
      "image/png": "[encoded data removed]",
      "text/plain": [
       "<Figure size 432x288 with 1 Axes>"
      ]
     },
     "metadata": {
      "needs_background": "light"
     },
     "output_type": "display_data"
    }
   ],
   "source": [
    "plt.loglog(df_delitos.Eventos.values/1780,'go')\n",
    "plw.plot_ccdf(df_delitos.Eventos.values,marker='o',ls='None')"
   ]
  },
  {
   "cell_type": "markdown",
   "metadata": {},
   "source": [
    "#  Zonas (test)"
   ]
  },
  {
   "cell_type": "code",
   "execution_count": 6,
   "metadata": {
    "ExecuteTime": {
     "end_time": "2020-01-14T04:21:16.860712Z",
     "start_time": "2020-01-14T04:21:12.341532Z"
    }
   },
   "outputs": [],
   "source": [
    "import pandas as pd\n",
    "import geopandas as gpd\n",
    "from shapely.geometry import Point, Polygon"
   ]
  },
  {
   "cell_type": "code",
   "execution_count": 7,
   "metadata": {
    "ExecuteTime": {
     "end_time": "2020-01-14T04:21:18.497938Z",
     "start_time": "2020-01-14T04:21:16.868442Z"
    }
   },
   "outputs": [],
   "source": [
    "alcaldias = gpd.read_file('data/alcaldias.geojson')\n",
    "cuadrantes = gpd.read_file('data/cuadrantes.geojson')\n",
    "colonias = gpd.read_file('data/coloniascdmx.geojson')\n",
    "coordterrit = gpd.read_file('data/comisiones-vecinales.geojson')"
   ]
  },
  {
   "cell_type": "code",
   "execution_count": 18,
   "metadata": {
    "ExecuteTime": {
     "end_time": "2020-01-14T04:26:08.653763Z",
     "start_time": "2020-01-14T04:26:08.616827Z"
    }
   },
   "outputs": [],
   "source": [
    "df_crimen.dropna(subset=['geopoint'],inplace=True)"
   ]
  },
  {
   "cell_type": "code",
   "execution_count": 23,
   "metadata": {
    "ExecuteTime": {
     "end_time": "2020-01-14T04:29:08.363396Z",
     "start_time": "2020-01-14T04:29:07.231881Z"
    }
   },
   "outputs": [],
   "source": [
    "for gpoint in df_crimen.geopoint:\n",
    "    punto = Point(gpoint[1],gpoint[0])\n",
    "    if punto.within(alcaldias.geometry[12]):\n",
    "        pass"
   ]
  },
  {
   "cell_type": "markdown",
   "metadata": {
    "heading_collapsed": true
   },
   "source": [
    "## Ejemplo de Datasets"
   ]
  },
  {
   "cell_type": "code",
   "execution_count": 24,
   "metadata": {
    "ExecuteTime": {
     "end_time": "2020-01-13T21:30:15.543237Z",
     "start_time": "2020-01-13T21:30:15.352642Z"
    },
    "hidden": true
   },
   "outputs": [
    {
     "data": {
      "text/html": [
       "<div>\n",
       "<style scoped>\n",
       "    .dataframe tbody tr th:only-of-type {\n",
       "        vertical-align: middle;\n",
       "    }\n",
       "\n",
       "    .dataframe tbody tr th {\n",
       "        vertical-align: top;\n",
       "    }\n",
       "\n",
       "    .dataframe thead th {\n",
       "        text-align: right;\n",
       "    }\n",
       "</style>\n",
       "<table border=\"1\" class=\"dataframe\">\n",
       "  <thead>\n",
       "    <tr style=\"text-align: right;\">\n",
       "      <th></th>\n",
       "      <th>cvegeo</th>\n",
       "      <th>nomgeo</th>\n",
       "      <th>cve_mun</th>\n",
       "      <th>cve_ent</th>\n",
       "      <th>geometry</th>\n",
       "    </tr>\n",
       "  </thead>\n",
       "  <tbody>\n",
       "    <tr>\n",
       "      <th>0</th>\n",
       "      <td>09012</td>\n",
       "      <td>Tlalpan</td>\n",
       "      <td>012</td>\n",
       "      <td>09</td>\n",
       "      <td>POLYGON ((-99.19629 19.30228, -99.19595 19.302...</td>\n",
       "    </tr>\n",
       "    <tr>\n",
       "      <th>1</th>\n",
       "      <td>09017</td>\n",
       "      <td>Venustiano Carranza</td>\n",
       "      <td>017</td>\n",
       "      <td>09</td>\n",
       "      <td>POLYGON ((-99.10895 19.45273, -99.10889 19.452...</td>\n",
       "    </tr>\n",
       "    <tr>\n",
       "      <th>2</th>\n",
       "      <td>09002</td>\n",
       "      <td>Azcapotzalco</td>\n",
       "      <td>002</td>\n",
       "      <td>09</td>\n",
       "      <td>POLYGON ((-99.18231 19.50748, -99.18229 19.507...</td>\n",
       "    </tr>\n",
       "    <tr>\n",
       "      <th>3</th>\n",
       "      <td>09007</td>\n",
       "      <td>Iztapalapa</td>\n",
       "      <td>007</td>\n",
       "      <td>09</td>\n",
       "      <td>POLYGON ((-99.05813 19.40072, -99.05814 19.400...</td>\n",
       "    </tr>\n",
       "    <tr>\n",
       "      <th>4</th>\n",
       "      <td>09006</td>\n",
       "      <td>Iztacalco</td>\n",
       "      <td>006</td>\n",
       "      <td>09</td>\n",
       "      <td>POLYGON ((-99.05584 19.42196, -99.05589 19.421...</td>\n",
       "    </tr>\n",
       "    <tr>\n",
       "      <th>5</th>\n",
       "      <td>09016</td>\n",
       "      <td>Miguel Hidalgo</td>\n",
       "      <td>016</td>\n",
       "      <td>09</td>\n",
       "      <td>POLYGON ((-99.19058 19.46794, -99.19066 19.465...</td>\n",
       "    </tr>\n",
       "    <tr>\n",
       "      <th>6</th>\n",
       "      <td>09008</td>\n",
       "      <td>La Magdalena Contreras</td>\n",
       "      <td>008</td>\n",
       "      <td>09</td>\n",
       "      <td>POLYGON ((-99.20859 19.33610, -99.20867 19.335...</td>\n",
       "    </tr>\n",
       "    <tr>\n",
       "      <th>7</th>\n",
       "      <td>09003</td>\n",
       "      <td>Coyoacán</td>\n",
       "      <td>003</td>\n",
       "      <td>09</td>\n",
       "      <td>POLYGON ((-99.13923 19.35687, -99.13772 19.356...</td>\n",
       "    </tr>\n",
       "    <tr>\n",
       "      <th>8</th>\n",
       "      <td>09009</td>\n",
       "      <td>Milpa Alta</td>\n",
       "      <td>009</td>\n",
       "      <td>09</td>\n",
       "      <td>POLYGON ((-98.99723 19.22731, -98.99745 19.227...</td>\n",
       "    </tr>\n",
       "    <tr>\n",
       "      <th>9</th>\n",
       "      <td>09015</td>\n",
       "      <td>Cuauhtémoc</td>\n",
       "      <td>015</td>\n",
       "      <td>09</td>\n",
       "      <td>POLYGON ((-99.12919 19.46247, -99.12884 19.462...</td>\n",
       "    </tr>\n",
       "    <tr>\n",
       "      <th>10</th>\n",
       "      <td>09010</td>\n",
       "      <td>Álvaro Obregón</td>\n",
       "      <td>010</td>\n",
       "      <td>09</td>\n",
       "      <td>POLYGON ((-99.18871 19.39475, -99.18868 19.394...</td>\n",
       "    </tr>\n",
       "    <tr>\n",
       "      <th>11</th>\n",
       "      <td>09013</td>\n",
       "      <td>Xochimilco</td>\n",
       "      <td>013</td>\n",
       "      <td>09</td>\n",
       "      <td>POLYGON ((-99.09870 19.31964, -99.09849 19.319...</td>\n",
       "    </tr>\n",
       "    <tr>\n",
       "      <th>12</th>\n",
       "      <td>09011</td>\n",
       "      <td>Tláhuac</td>\n",
       "      <td>011</td>\n",
       "      <td>09</td>\n",
       "      <td>POLYGON ((-98.97893 19.32393, -98.97856 19.323...</td>\n",
       "    </tr>\n",
       "    <tr>\n",
       "      <th>13</th>\n",
       "      <td>09014</td>\n",
       "      <td>Benito Juárez</td>\n",
       "      <td>014</td>\n",
       "      <td>09</td>\n",
       "      <td>POLYGON ((-99.13679 19.40156, -99.13682 19.401...</td>\n",
       "    </tr>\n",
       "    <tr>\n",
       "      <th>14</th>\n",
       "      <td>09004</td>\n",
       "      <td>Cuajimalpa de Morelos</td>\n",
       "      <td>004</td>\n",
       "      <td>09</td>\n",
       "      <td>POLYGON ((-99.25698 19.40043, -99.25694 19.400...</td>\n",
       "    </tr>\n",
       "    <tr>\n",
       "      <th>15</th>\n",
       "      <td>09005</td>\n",
       "      <td>Gustavo A. Madero</td>\n",
       "      <td>005</td>\n",
       "      <td>09</td>\n",
       "      <td>POLYGON ((-99.11860 19.58446, -99.11691 19.581...</td>\n",
       "    </tr>\n",
       "  </tbody>\n",
       "</table>\n",
       "</div>"
      ],
      "text/plain": [
       "   cvegeo                  nomgeo cve_mun cve_ent  \\\n",
       "0   09012                 Tlalpan     012      09   \n",
       "1   09017     Venustiano Carranza     017      09   \n",
       "2   09002            Azcapotzalco     002      09   \n",
       "3   09007              Iztapalapa     007      09   \n",
       "4   09006               Iztacalco     006      09   \n",
       "5   09016          Miguel Hidalgo     016      09   \n",
       "6   09008  La Magdalena Contreras     008      09   \n",
       "7   09003                Coyoacán     003      09   \n",
       "8   09009              Milpa Alta     009      09   \n",
       "9   09015              Cuauhtémoc     015      09   \n",
       "10  09010          Álvaro Obregón     010      09   \n",
       "11  09013              Xochimilco     013      09   \n",
       "12  09011                 Tláhuac     011      09   \n",
       "13  09014           Benito Juárez     014      09   \n",
       "14  09004   Cuajimalpa de Morelos     004      09   \n",
       "15  09005       Gustavo A. Madero     005      09   \n",
       "\n",
       "                                             geometry  \n",
       "0   POLYGON ((-99.19629 19.30228, -99.19595 19.302...  \n",
       "1   POLYGON ((-99.10895 19.45273, -99.10889 19.452...  \n",
       "2   POLYGON ((-99.18231 19.50748, -99.18229 19.507...  \n",
       "3   POLYGON ((-99.05813 19.40072, -99.05814 19.400...  \n",
       "4   POLYGON ((-99.05584 19.42196, -99.05589 19.421...  \n",
       "5   POLYGON ((-99.19058 19.46794, -99.19066 19.465...  \n",
       "6   POLYGON ((-99.20859 19.33610, -99.20867 19.335...  \n",
       "7   POLYGON ((-99.13923 19.35687, -99.13772 19.356...  \n",
       "8   POLYGON ((-98.99723 19.22731, -98.99745 19.227...  \n",
       "9   POLYGON ((-99.12919 19.46247, -99.12884 19.462...  \n",
       "10  POLYGON ((-99.18871 19.39475, -99.18868 19.394...  \n",
       "11  POLYGON ((-99.09870 19.31964, -99.09849 19.319...  \n",
       "12  POLYGON ((-98.97893 19.32393, -98.97856 19.323...  \n",
       "13  POLYGON ((-99.13679 19.40156, -99.13682 19.401...  \n",
       "14  POLYGON ((-99.25698 19.40043, -99.25694 19.400...  \n",
       "15  POLYGON ((-99.11860 19.58446, -99.11691 19.581...  "
      ]
     },
     "execution_count": 24,
     "metadata": {},
     "output_type": "execute_result"
    }
   ],
   "source": [
    "alcaldias"
   ]
  },
  {
   "cell_type": "code",
   "execution_count": 23,
   "metadata": {
    "ExecuteTime": {
     "end_time": "2020-01-13T21:30:05.663846Z",
     "start_time": "2020-01-13T21:30:05.366319Z"
    },
    "hidden": true
   },
   "outputs": [
    {
     "data": {
      "text/html": [
       "<div>\n",
       "<style scoped>\n",
       "    .dataframe tbody tr th:only-of-type {\n",
       "        vertical-align: middle;\n",
       "    }\n",
       "\n",
       "    .dataframe tbody tr th {\n",
       "        vertical-align: top;\n",
       "    }\n",
       "\n",
       "    .dataframe thead th {\n",
       "        text-align: right;\n",
       "    }\n",
       "</style>\n",
       "<table border=\"1\" class=\"dataframe\">\n",
       "  <thead>\n",
       "    <tr style=\"text-align: right;\">\n",
       "      <th></th>\n",
       "      <th>sector</th>\n",
       "      <th>cve_zona</th>\n",
       "      <th>zona</th>\n",
       "      <th>no_cuadran</th>\n",
       "      <th>deleg</th>\n",
       "      <th>gid</th>\n",
       "      <th>no_region</th>\n",
       "      <th>y</th>\n",
       "      <th>x</th>\n",
       "      <th>geo_sector</th>\n",
       "      <th>geo_alcald</th>\n",
       "      <th>cve_sector</th>\n",
       "      <th>geometry</th>\n",
       "    </tr>\n",
       "  </thead>\n",
       "  <tbody>\n",
       "    <tr>\n",
       "      <th>0</th>\n",
       "      <td>SAN ANGEL</td>\n",
       "      <td>P</td>\n",
       "      <td>PONIENTE</td>\n",
       "      <td>10</td>\n",
       "      <td>ALVARO OBREGON</td>\n",
       "      <td>2</td>\n",
       "      <td>1</td>\n",
       "      <td>19.314954</td>\n",
       "      <td>-99.216522</td>\n",
       "      <td>63</td>\n",
       "      <td>4</td>\n",
       "      <td>3</td>\n",
       "      <td>POLYGON ((-99.21377 19.32112, -99.21365 19.317...</td>\n",
       "    </tr>\n",
       "    <tr>\n",
       "      <th>1</th>\n",
       "      <td>TEOTONGO</td>\n",
       "      <td>O</td>\n",
       "      <td>ORIENTE</td>\n",
       "      <td>1</td>\n",
       "      <td>IZTAPALAPA</td>\n",
       "      <td>8</td>\n",
       "      <td>1</td>\n",
       "      <td>19.359487</td>\n",
       "      <td>-99.013033</td>\n",
       "      <td>28</td>\n",
       "      <td>15</td>\n",
       "      <td>8</td>\n",
       "      <td>POLYGON ((-99.02242 19.36003, -99.02052 19.362...</td>\n",
       "    </tr>\n",
       "    <tr>\n",
       "      <th>2</th>\n",
       "      <td>TLATELOLCO</td>\n",
       "      <td>C</td>\n",
       "      <td>CENTRO</td>\n",
       "      <td>7</td>\n",
       "      <td>CUAUHTEMOC</td>\n",
       "      <td>14</td>\n",
       "      <td>1</td>\n",
       "      <td>19.458025</td>\n",
       "      <td>-99.125421</td>\n",
       "      <td>32</td>\n",
       "      <td>13</td>\n",
       "      <td>8</td>\n",
       "      <td>POLYGON ((-99.12806 19.45697, -99.12641 19.461...</td>\n",
       "    </tr>\n",
       "    <tr>\n",
       "      <th>3</th>\n",
       "      <td>BUENAVISTA</td>\n",
       "      <td>C</td>\n",
       "      <td>CENTRO</td>\n",
       "      <td>2</td>\n",
       "      <td>CUAUHTEMOC</td>\n",
       "      <td>21</td>\n",
       "      <td>1</td>\n",
       "      <td>19.451680</td>\n",
       "      <td>-99.154812</td>\n",
       "      <td>3</td>\n",
       "      <td>13</td>\n",
       "      <td>4</td>\n",
       "      <td>POLYGON ((-99.15842 19.45085, -99.15770 19.454...</td>\n",
       "    </tr>\n",
       "    <tr>\n",
       "      <th>4</th>\n",
       "      <td>BUENAVISTA</td>\n",
       "      <td>C</td>\n",
       "      <td>CENTRO</td>\n",
       "      <td>3</td>\n",
       "      <td>CUAUHTEMOC</td>\n",
       "      <td>22</td>\n",
       "      <td>1</td>\n",
       "      <td>19.447905</td>\n",
       "      <td>-99.155544</td>\n",
       "      <td>3</td>\n",
       "      <td>13</td>\n",
       "      <td>4</td>\n",
       "      <td>POLYGON ((-99.15842 19.45085, -99.15261 19.449...</td>\n",
       "    </tr>\n",
       "    <tr>\n",
       "      <th>...</th>\n",
       "      <td>...</td>\n",
       "      <td>...</td>\n",
       "      <td>...</td>\n",
       "      <td>...</td>\n",
       "      <td>...</td>\n",
       "      <td>...</td>\n",
       "      <td>...</td>\n",
       "      <td>...</td>\n",
       "      <td>...</td>\n",
       "      <td>...</td>\n",
       "      <td>...</td>\n",
       "      <td>...</td>\n",
       "      <td>...</td>\n",
       "    </tr>\n",
       "    <tr>\n",
       "      <th>842</th>\n",
       "      <td>DINAMO</td>\n",
       "      <td>S</td>\n",
       "      <td>SUR</td>\n",
       "      <td>5</td>\n",
       "      <td>MAGDALENA CONTRERAS</td>\n",
       "      <td>831</td>\n",
       "      <td>3</td>\n",
       "      <td>19.300258</td>\n",
       "      <td>-99.261265</td>\n",
       "      <td>57</td>\n",
       "      <td>14</td>\n",
       "      <td>1</td>\n",
       "      <td>POLYGON ((-99.27237 19.30247, -99.27177 19.302...</td>\n",
       "    </tr>\n",
       "    <tr>\n",
       "      <th>843</th>\n",
       "      <td>UNIVERSIDAD</td>\n",
       "      <td>S</td>\n",
       "      <td>SUR</td>\n",
       "      <td>9</td>\n",
       "      <td>COYOACAN</td>\n",
       "      <td>842</td>\n",
       "      <td>2</td>\n",
       "      <td>19.318438</td>\n",
       "      <td>-99.167683</td>\n",
       "      <td>52</td>\n",
       "      <td>7</td>\n",
       "      <td>4</td>\n",
       "      <td>POLYGON ((-99.17459 19.32260, -99.17405 19.322...</td>\n",
       "    </tr>\n",
       "    <tr>\n",
       "      <th>844</th>\n",
       "      <td>LA NORIA</td>\n",
       "      <td>O</td>\n",
       "      <td>ORIENTE</td>\n",
       "      <td>2</td>\n",
       "      <td>XOCHIMILCO</td>\n",
       "      <td>844</td>\n",
       "      <td>4</td>\n",
       "      <td>19.228383</td>\n",
       "      <td>-99.124672</td>\n",
       "      <td>69</td>\n",
       "      <td>5</td>\n",
       "      <td>1</td>\n",
       "      <td>POLYGON ((-99.13050 19.20974, -99.13133 19.209...</td>\n",
       "    </tr>\n",
       "    <tr>\n",
       "      <th>845</th>\n",
       "      <td>UNIVERSIDAD</td>\n",
       "      <td>S</td>\n",
       "      <td>SUR</td>\n",
       "      <td>8</td>\n",
       "      <td>COYOACAN</td>\n",
       "      <td>841</td>\n",
       "      <td>2</td>\n",
       "      <td>19.326460</td>\n",
       "      <td>-99.170117</td>\n",
       "      <td>52</td>\n",
       "      <td>7</td>\n",
       "      <td>4</td>\n",
       "      <td>POLYGON ((-99.17378 19.33269, -99.17276 19.332...</td>\n",
       "    </tr>\n",
       "    <tr>\n",
       "      <th>846</th>\n",
       "      <td>TOPILEJO</td>\n",
       "      <td>S</td>\n",
       "      <td>SUR</td>\n",
       "      <td>4</td>\n",
       "      <td>TLALPAN</td>\n",
       "      <td>845</td>\n",
       "      <td>4</td>\n",
       "      <td>19.240121</td>\n",
       "      <td>-99.177363</td>\n",
       "      <td>72</td>\n",
       "      <td>8</td>\n",
       "      <td>5</td>\n",
       "      <td>POLYGON ((-99.19649 19.24303, -99.19626 19.243...</td>\n",
       "    </tr>\n",
       "  </tbody>\n",
       "</table>\n",
       "<p>847 rows × 13 columns</p>\n",
       "</div>"
      ],
      "text/plain": [
       "          sector cve_zona      zona  no_cuadran                deleg  gid  \\\n",
       "0      SAN ANGEL        P  PONIENTE          10       ALVARO OBREGON    2   \n",
       "1       TEOTONGO        O   ORIENTE           1           IZTAPALAPA    8   \n",
       "2     TLATELOLCO        C    CENTRO           7           CUAUHTEMOC   14   \n",
       "3     BUENAVISTA        C    CENTRO           2           CUAUHTEMOC   21   \n",
       "4     BUENAVISTA        C    CENTRO           3           CUAUHTEMOC   22   \n",
       "..           ...      ...       ...         ...                  ...  ...   \n",
       "842       DINAMO        S       SUR           5  MAGDALENA CONTRERAS  831   \n",
       "843  UNIVERSIDAD        S       SUR           9             COYOACAN  842   \n",
       "844     LA NORIA        O   ORIENTE           2           XOCHIMILCO  844   \n",
       "845  UNIVERSIDAD        S       SUR           8             COYOACAN  841   \n",
       "846     TOPILEJO        S       SUR           4              TLALPAN  845   \n",
       "\n",
       "     no_region          y          x  geo_sector  geo_alcald cve_sector  \\\n",
       "0            1  19.314954 -99.216522          63           4          3   \n",
       "1            1  19.359487 -99.013033          28          15          8   \n",
       "2            1  19.458025 -99.125421          32          13          8   \n",
       "3            1  19.451680 -99.154812           3          13          4   \n",
       "4            1  19.447905 -99.155544           3          13          4   \n",
       "..         ...        ...        ...         ...         ...        ...   \n",
       "842          3  19.300258 -99.261265          57          14          1   \n",
       "843          2  19.318438 -99.167683          52           7          4   \n",
       "844          4  19.228383 -99.124672          69           5          1   \n",
       "845          2  19.326460 -99.170117          52           7          4   \n",
       "846          4  19.240121 -99.177363          72           8          5   \n",
       "\n",
       "                                              geometry  \n",
       "0    POLYGON ((-99.21377 19.32112, -99.21365 19.317...  \n",
       "1    POLYGON ((-99.02242 19.36003, -99.02052 19.362...  \n",
       "2    POLYGON ((-99.12806 19.45697, -99.12641 19.461...  \n",
       "3    POLYGON ((-99.15842 19.45085, -99.15770 19.454...  \n",
       "4    POLYGON ((-99.15842 19.45085, -99.15261 19.449...  \n",
       "..                                                 ...  \n",
       "842  POLYGON ((-99.27237 19.30247, -99.27177 19.302...  \n",
       "843  POLYGON ((-99.17459 19.32260, -99.17405 19.322...  \n",
       "844  POLYGON ((-99.13050 19.20974, -99.13133 19.209...  \n",
       "845  POLYGON ((-99.17378 19.33269, -99.17276 19.332...  \n",
       "846  POLYGON ((-99.19649 19.24303, -99.19626 19.243...  \n",
       "\n",
       "[847 rows x 13 columns]"
      ]
     },
     "execution_count": 23,
     "metadata": {},
     "output_type": "execute_result"
    }
   ],
   "source": [
    "cuadrantes"
   ]
  },
  {
   "cell_type": "code",
   "execution_count": 22,
   "metadata": {
    "ExecuteTime": {
     "end_time": "2020-01-13T21:29:54.285874Z",
     "start_time": "2020-01-13T21:29:53.576757Z"
    },
    "hidden": true
   },
   "outputs": [
    {
     "data": {
      "text/html": [
       "<div>\n",
       "<style scoped>\n",
       "    .dataframe tbody tr th:only-of-type {\n",
       "        vertical-align: middle;\n",
       "    }\n",
       "\n",
       "    .dataframe tbody tr th {\n",
       "        vertical-align: top;\n",
       "    }\n",
       "\n",
       "    .dataframe thead th {\n",
       "        text-align: right;\n",
       "    }\n",
       "</style>\n",
       "<table border=\"1\" class=\"dataframe\">\n",
       "  <thead>\n",
       "    <tr style=\"text-align: right;\">\n",
       "      <th></th>\n",
       "      <th>entidad</th>\n",
       "      <th>cve_alc</th>\n",
       "      <th>alcaldia</th>\n",
       "      <th>secc_com</th>\n",
       "      <th>nombre</th>\n",
       "      <th>cve_col</th>\n",
       "      <th>secc_par</th>\n",
       "      <th>geometry</th>\n",
       "    </tr>\n",
       "  </thead>\n",
       "  <tbody>\n",
       "    <tr>\n",
       "      <th>0</th>\n",
       "      <td>9.0</td>\n",
       "      <td>16</td>\n",
       "      <td>MIGUEL HIDALGO</td>\n",
       "      <td>4971, 4983</td>\n",
       "      <td>LOMAS DE REFORMA</td>\n",
       "      <td>16-043</td>\n",
       "      <td>None</td>\n",
       "      <td>POLYGON ((-99.23598 19.40510, -99.23546 19.405...</td>\n",
       "    </tr>\n",
       "    <tr>\n",
       "      <th>1</th>\n",
       "      <td>9.0</td>\n",
       "      <td>16</td>\n",
       "      <td>MIGUEL HIDALGO</td>\n",
       "      <td>4951, 4952, 4953</td>\n",
       "      <td>DANIEL GARZA (AMPL)</td>\n",
       "      <td>16-025</td>\n",
       "      <td>4957, 4959, 4960, 4973, 4990</td>\n",
       "      <td>POLYGON ((-99.19325 19.41382, -99.19312 19.413...</td>\n",
       "    </tr>\n",
       "    <tr>\n",
       "      <th>2</th>\n",
       "      <td>9.0</td>\n",
       "      <td>16</td>\n",
       "      <td>MIGUEL HIDALGO</td>\n",
       "      <td>None</td>\n",
       "      <td>IGNACIO MANUEL ALTAMIRANO</td>\n",
       "      <td>16-034</td>\n",
       "      <td>5110</td>\n",
       "      <td>POLYGON ((-99.19667 19.46486, -99.19608 19.464...</td>\n",
       "    </tr>\n",
       "    <tr>\n",
       "      <th>3</th>\n",
       "      <td>9.0</td>\n",
       "      <td>16</td>\n",
       "      <td>MIGUEL HIDALGO</td>\n",
       "      <td>5046</td>\n",
       "      <td>LEGARIA</td>\n",
       "      <td>16-036</td>\n",
       "      <td>5038, 5045, 5058</td>\n",
       "      <td>POLYGON ((-99.19051 19.45879, -99.19065 19.458...</td>\n",
       "    </tr>\n",
       "    <tr>\n",
       "      <th>4</th>\n",
       "      <td>9.0</td>\n",
       "      <td>16</td>\n",
       "      <td>MIGUEL HIDALGO</td>\n",
       "      <td>None</td>\n",
       "      <td>LEGARIA (U HAB)</td>\n",
       "      <td>16-037</td>\n",
       "      <td>5069, 5070</td>\n",
       "      <td>POLYGON ((-99.20242 19.45061, -99.20235 19.450...</td>\n",
       "    </tr>\n",
       "    <tr>\n",
       "      <th>...</th>\n",
       "      <td>...</td>\n",
       "      <td>...</td>\n",
       "      <td>...</td>\n",
       "      <td>...</td>\n",
       "      <td>...</td>\n",
       "      <td>...</td>\n",
       "      <td>...</td>\n",
       "      <td>...</td>\n",
       "    </tr>\n",
       "    <tr>\n",
       "      <th>1807</th>\n",
       "      <td>9.0</td>\n",
       "      <td>3</td>\n",
       "      <td>COYOACAN</td>\n",
       "      <td>419, 420, 421, 422</td>\n",
       "      <td>ADOLFO RUIZ CORTINES II</td>\n",
       "      <td>03-127</td>\n",
       "      <td>423</td>\n",
       "      <td>POLYGON ((-99.15034 19.32007, -99.15102 19.319...</td>\n",
       "    </tr>\n",
       "    <tr>\n",
       "      <th>1808</th>\n",
       "      <td>9.0</td>\n",
       "      <td>17</td>\n",
       "      <td>VENUSTIANO CARRANZA</td>\n",
       "      <td>5440, 5441, 5500</td>\n",
       "      <td>EL ARENAL 1A SECCION</td>\n",
       "      <td>17-018</td>\n",
       "      <td>5442</td>\n",
       "      <td>POLYGON ((-99.05938 19.42333, -99.05905 19.422...</td>\n",
       "    </tr>\n",
       "    <tr>\n",
       "      <th>1809</th>\n",
       "      <td>9.0</td>\n",
       "      <td>17</td>\n",
       "      <td>VENUSTIANO CARRANZA</td>\n",
       "      <td>5357</td>\n",
       "      <td>AERONAUTICA MILITAR</td>\n",
       "      <td>17-003</td>\n",
       "      <td>5342, 5372</td>\n",
       "      <td>POLYGON ((-99.11620 19.42502, -99.11613 19.425...</td>\n",
       "    </tr>\n",
       "    <tr>\n",
       "      <th>1810</th>\n",
       "      <td>9.0</td>\n",
       "      <td>17</td>\n",
       "      <td>VENUSTIANO CARRANZA</td>\n",
       "      <td>5492, 5496, 5482</td>\n",
       "      <td>IGNACIO ZARAGOZA II</td>\n",
       "      <td>17-075</td>\n",
       "      <td>5476, 5477, 5481, 5485</td>\n",
       "      <td>POLYGON ((-99.09353 19.41452, -99.09318 19.414...</td>\n",
       "    </tr>\n",
       "    <tr>\n",
       "      <th>1811</th>\n",
       "      <td>9.0</td>\n",
       "      <td>17</td>\n",
       "      <td>VENUSTIANO CARRANZA</td>\n",
       "      <td>5244</td>\n",
       "      <td>20 DE NOVIEMBRE (AMPL)</td>\n",
       "      <td>17-067</td>\n",
       "      <td>5214</td>\n",
       "      <td>POLYGON ((-99.11576 19.44626, -99.11486 19.445...</td>\n",
       "    </tr>\n",
       "  </tbody>\n",
       "</table>\n",
       "<p>1812 rows × 8 columns</p>\n",
       "</div>"
      ],
      "text/plain": [
       "      entidad  cve_alc             alcaldia            secc_com  \\\n",
       "0         9.0       16       MIGUEL HIDALGO          4971, 4983   \n",
       "1         9.0       16       MIGUEL HIDALGO    4951, 4952, 4953   \n",
       "2         9.0       16       MIGUEL HIDALGO                None   \n",
       "3         9.0       16       MIGUEL HIDALGO                5046   \n",
       "4         9.0       16       MIGUEL HIDALGO                None   \n",
       "...       ...      ...                  ...                 ...   \n",
       "1807      9.0        3             COYOACAN  419, 420, 421, 422   \n",
       "1808      9.0       17  VENUSTIANO CARRANZA    5440, 5441, 5500   \n",
       "1809      9.0       17  VENUSTIANO CARRANZA                5357   \n",
       "1810      9.0       17  VENUSTIANO CARRANZA    5492, 5496, 5482   \n",
       "1811      9.0       17  VENUSTIANO CARRANZA                5244   \n",
       "\n",
       "                         nombre cve_col                      secc_par  \\\n",
       "0              LOMAS DE REFORMA  16-043                          None   \n",
       "1           DANIEL GARZA (AMPL)  16-025  4957, 4959, 4960, 4973, 4990   \n",
       "2     IGNACIO MANUEL ALTAMIRANO  16-034                          5110   \n",
       "3                       LEGARIA  16-036              5038, 5045, 5058   \n",
       "4               LEGARIA (U HAB)  16-037                    5069, 5070   \n",
       "...                         ...     ...                           ...   \n",
       "1807    ADOLFO RUIZ CORTINES II  03-127                           423   \n",
       "1808       EL ARENAL 1A SECCION  17-018                          5442   \n",
       "1809        AERONAUTICA MILITAR  17-003                    5342, 5372   \n",
       "1810        IGNACIO ZARAGOZA II  17-075        5476, 5477, 5481, 5485   \n",
       "1811     20 DE NOVIEMBRE (AMPL)  17-067                          5214   \n",
       "\n",
       "                                               geometry  \n",
       "0     POLYGON ((-99.23598 19.40510, -99.23546 19.405...  \n",
       "1     POLYGON ((-99.19325 19.41382, -99.19312 19.413...  \n",
       "2     POLYGON ((-99.19667 19.46486, -99.19608 19.464...  \n",
       "3     POLYGON ((-99.19051 19.45879, -99.19065 19.458...  \n",
       "4     POLYGON ((-99.20242 19.45061, -99.20235 19.450...  \n",
       "...                                                 ...  \n",
       "1807  POLYGON ((-99.15034 19.32007, -99.15102 19.319...  \n",
       "1808  POLYGON ((-99.05938 19.42333, -99.05905 19.422...  \n",
       "1809  POLYGON ((-99.11620 19.42502, -99.11613 19.425...  \n",
       "1810  POLYGON ((-99.09353 19.41452, -99.09318 19.414...  \n",
       "1811  POLYGON ((-99.11576 19.44626, -99.11486 19.445...  \n",
       "\n",
       "[1812 rows x 8 columns]"
      ]
     },
     "execution_count": 22,
     "metadata": {},
     "output_type": "execute_result"
    }
   ],
   "source": [
    "colonias"
   ]
  },
  {
   "cell_type": "code",
   "execution_count": 21,
   "metadata": {
    "ExecuteTime": {
     "end_time": "2020-01-13T21:29:43.446388Z",
     "start_time": "2020-01-13T21:29:43.221709Z"
    },
    "hidden": true
   },
   "outputs": [
    {
     "data": {
      "text/html": [
       "<div>\n",
       "<style scoped>\n",
       "    .dataframe tbody tr th:only-of-type {\n",
       "        vertical-align: middle;\n",
       "    }\n",
       "\n",
       "    .dataframe tbody tr th {\n",
       "        vertical-align: top;\n",
       "    }\n",
       "\n",
       "    .dataframe thead th {\n",
       "        text-align: right;\n",
       "    }\n",
       "</style>\n",
       "<table border=\"1\" class=\"dataframe\">\n",
       "  <thead>\n",
       "    <tr style=\"text-align: right;\">\n",
       "      <th></th>\n",
       "      <th>sector</th>\n",
       "      <th>nombre</th>\n",
       "      <th>zona</th>\n",
       "      <th>region</th>\n",
       "      <th>id</th>\n",
       "      <th>gid</th>\n",
       "      <th>consecut_1</th>\n",
       "      <th>consecutiv</th>\n",
       "      <th>y</th>\n",
       "      <th>x</th>\n",
       "      <th>delegacion</th>\n",
       "      <th>ct</th>\n",
       "      <th>geometry</th>\n",
       "    </tr>\n",
       "  </thead>\n",
       "  <tbody>\n",
       "    <tr>\n",
       "      <th>0</th>\n",
       "      <td>CUJ 1</td>\n",
       "      <td>CUAJIMALPA</td>\n",
       "      <td>PONIENTE</td>\n",
       "      <td>14.0</td>\n",
       "      <td>56.0</td>\n",
       "      <td>47</td>\n",
       "      <td>6.0</td>\n",
       "      <td>1.0</td>\n",
       "      <td>19.342041</td>\n",
       "      <td>-99.313220</td>\n",
       "      <td>CUAJIMALPA</td>\n",
       "      <td>CJ-1</td>\n",
       "      <td>POLYGON ((-99.28036 19.38140, -99.28049 19.381...</td>\n",
       "    </tr>\n",
       "    <tr>\n",
       "      <th>1</th>\n",
       "      <td>MIL 02</td>\n",
       "      <td>TECOMITL</td>\n",
       "      <td>ORIENTE</td>\n",
       "      <td>11.0</td>\n",
       "      <td>60.0</td>\n",
       "      <td>64</td>\n",
       "      <td>2.0</td>\n",
       "      <td>3.0</td>\n",
       "      <td>19.195221</td>\n",
       "      <td>-99.003643</td>\n",
       "      <td>MILPA ALTA</td>\n",
       "      <td>MIL-2</td>\n",
       "      <td>POLYGON ((-98.97882 19.21509, -98.97891 19.214...</td>\n",
       "    </tr>\n",
       "    <tr>\n",
       "      <th>2</th>\n",
       "      <td>GAM 2</td>\n",
       "      <td>TICOMAN</td>\n",
       "      <td>NORTE</td>\n",
       "      <td>5.0</td>\n",
       "      <td>50.0</td>\n",
       "      <td>70</td>\n",
       "      <td>4.0</td>\n",
       "      <td>1.0</td>\n",
       "      <td>19.512933</td>\n",
       "      <td>-99.149346</td>\n",
       "      <td>GUSTAVO A MADERO</td>\n",
       "      <td>GAM-2</td>\n",
       "      <td>POLYGON ((-99.15743 19.53050, -99.15517 19.530...</td>\n",
       "    </tr>\n",
       "    <tr>\n",
       "      <th>3</th>\n",
       "      <td>VCA 1</td>\n",
       "      <td>CONSULADO</td>\n",
       "      <td>NORTE</td>\n",
       "      <td>7.0</td>\n",
       "      <td>66.0</td>\n",
       "      <td>55</td>\n",
       "      <td>5.0</td>\n",
       "      <td>4.0</td>\n",
       "      <td>19.447702</td>\n",
       "      <td>-99.115155</td>\n",
       "      <td>VENUSTIANO CARRANZA</td>\n",
       "      <td>VC-1</td>\n",
       "      <td>POLYGON ((-99.10908 19.45270, -99.10954 19.451...</td>\n",
       "    </tr>\n",
       "    <tr>\n",
       "      <th>4</th>\n",
       "      <td>IZP 9</td>\n",
       "      <td>QUETZAL</td>\n",
       "      <td>ORIENTE</td>\n",
       "      <td>10.0</td>\n",
       "      <td>22.0</td>\n",
       "      <td>21</td>\n",
       "      <td>2.0</td>\n",
       "      <td>2.0</td>\n",
       "      <td>19.327774</td>\n",
       "      <td>-99.040892</td>\n",
       "      <td>IZTAPALAPA</td>\n",
       "      <td>IZP-9</td>\n",
       "      <td>POLYGON ((-99.01853 19.33498, -99.01811 19.333...</td>\n",
       "    </tr>\n",
       "    <tr>\n",
       "      <th>...</th>\n",
       "      <td>...</td>\n",
       "      <td>...</td>\n",
       "      <td>...</td>\n",
       "      <td>...</td>\n",
       "      <td>...</td>\n",
       "      <td>...</td>\n",
       "      <td>...</td>\n",
       "      <td>...</td>\n",
       "      <td>...</td>\n",
       "      <td>...</td>\n",
       "      <td>...</td>\n",
       "      <td>...</td>\n",
       "      <td>...</td>\n",
       "    </tr>\n",
       "    <tr>\n",
       "      <th>66</th>\n",
       "      <td>None</td>\n",
       "      <td>NARVARTE-ALAMOS</td>\n",
       "      <td>SUR</td>\n",
       "      <td>15.0</td>\n",
       "      <td>45.0</td>\n",
       "      <td>38</td>\n",
       "      <td>1.0</td>\n",
       "      <td>1.0</td>\n",
       "      <td>19.389838</td>\n",
       "      <td>-99.149076</td>\n",
       "      <td>BENITO JUAREZ</td>\n",
       "      <td>BJ-3</td>\n",
       "      <td>POLYGON ((-99.13665 19.40335, -99.13714 19.399...</td>\n",
       "    </tr>\n",
       "    <tr>\n",
       "      <th>67</th>\n",
       "      <td>GAM 8</td>\n",
       "      <td>ARAGON</td>\n",
       "      <td>NORTE</td>\n",
       "      <td>6.0</td>\n",
       "      <td>67.0</td>\n",
       "      <td>56</td>\n",
       "      <td>1.0</td>\n",
       "      <td>2.0</td>\n",
       "      <td>19.459982</td>\n",
       "      <td>-99.088805</td>\n",
       "      <td>GUSTAVO A MADERO</td>\n",
       "      <td>GAM-8</td>\n",
       "      <td>POLYGON ((-99.05166 19.45225, -99.05159 19.452...</td>\n",
       "    </tr>\n",
       "    <tr>\n",
       "      <th>68</th>\n",
       "      <td>None</td>\n",
       "      <td>CORREDOR-CENTRO</td>\n",
       "      <td>CENTRO</td>\n",
       "      <td>1.0</td>\n",
       "      <td>87.0</td>\n",
       "      <td>69</td>\n",
       "      <td>2.0</td>\n",
       "      <td>1.0</td>\n",
       "      <td>19.432733</td>\n",
       "      <td>-99.132235</td>\n",
       "      <td>CUAUHTEMOC</td>\n",
       "      <td>None</td>\n",
       "      <td>POLYGON ((-99.12315 19.44263, -99.12331 19.441...</td>\n",
       "    </tr>\n",
       "    <tr>\n",
       "      <th>69</th>\n",
       "      <td>10 UPC</td>\n",
       "      <td>LINDAVISTA</td>\n",
       "      <td>NORTE</td>\n",
       "      <td>5.0</td>\n",
       "      <td>14.0</td>\n",
       "      <td>65</td>\n",
       "      <td>2.0</td>\n",
       "      <td>1.0</td>\n",
       "      <td>19.489249</td>\n",
       "      <td>-99.130519</td>\n",
       "      <td>GUSTAVO A MADERO</td>\n",
       "      <td>GAM-3</td>\n",
       "      <td>POLYGON ((-99.15689 19.50263, -99.15254 19.500...</td>\n",
       "    </tr>\n",
       "    <tr>\n",
       "      <th>70</th>\n",
       "      <td>33 UPC</td>\n",
       "      <td>IZTACCIHUATL</td>\n",
       "      <td>NORTE</td>\n",
       "      <td>8.0</td>\n",
       "      <td>12.0</td>\n",
       "      <td>12</td>\n",
       "      <td>1.0</td>\n",
       "      <td>3.0</td>\n",
       "      <td>19.390048</td>\n",
       "      <td>-99.123457</td>\n",
       "      <td>IZTACALCO</td>\n",
       "      <td>IZC-1</td>\n",
       "      <td>POLYGON ((-99.11224 19.38824, -99.11150 19.384...</td>\n",
       "    </tr>\n",
       "  </tbody>\n",
       "</table>\n",
       "<p>71 rows × 13 columns</p>\n",
       "</div>"
      ],
      "text/plain": [
       "    sector           nombre      zona  region    id  gid  consecut_1  \\\n",
       "0    CUJ 1       CUAJIMALPA  PONIENTE    14.0  56.0   47         6.0   \n",
       "1   MIL 02         TECOMITL   ORIENTE    11.0  60.0   64         2.0   \n",
       "2    GAM 2          TICOMAN     NORTE     5.0  50.0   70         4.0   \n",
       "3    VCA 1        CONSULADO     NORTE     7.0  66.0   55         5.0   \n",
       "4    IZP 9          QUETZAL   ORIENTE    10.0  22.0   21         2.0   \n",
       "..     ...              ...       ...     ...   ...  ...         ...   \n",
       "66    None  NARVARTE-ALAMOS       SUR    15.0  45.0   38         1.0   \n",
       "67   GAM 8           ARAGON     NORTE     6.0  67.0   56         1.0   \n",
       "68    None  CORREDOR-CENTRO    CENTRO     1.0  87.0   69         2.0   \n",
       "69  10 UPC       LINDAVISTA     NORTE     5.0  14.0   65         2.0   \n",
       "70  33 UPC     IZTACCIHUATL     NORTE     8.0  12.0   12         1.0   \n",
       "\n",
       "    consecutiv          y          x           delegacion     ct  \\\n",
       "0          1.0  19.342041 -99.313220           CUAJIMALPA   CJ-1   \n",
       "1          3.0  19.195221 -99.003643           MILPA ALTA  MIL-2   \n",
       "2          1.0  19.512933 -99.149346     GUSTAVO A MADERO  GAM-2   \n",
       "3          4.0  19.447702 -99.115155  VENUSTIANO CARRANZA   VC-1   \n",
       "4          2.0  19.327774 -99.040892           IZTAPALAPA  IZP-9   \n",
       "..         ...        ...        ...                  ...    ...   \n",
       "66         1.0  19.389838 -99.149076        BENITO JUAREZ   BJ-3   \n",
       "67         2.0  19.459982 -99.088805     GUSTAVO A MADERO  GAM-8   \n",
       "68         1.0  19.432733 -99.132235           CUAUHTEMOC   None   \n",
       "69         1.0  19.489249 -99.130519     GUSTAVO A MADERO  GAM-3   \n",
       "70         3.0  19.390048 -99.123457            IZTACALCO  IZC-1   \n",
       "\n",
       "                                             geometry  \n",
       "0   POLYGON ((-99.28036 19.38140, -99.28049 19.381...  \n",
       "1   POLYGON ((-98.97882 19.21509, -98.97891 19.214...  \n",
       "2   POLYGON ((-99.15743 19.53050, -99.15517 19.530...  \n",
       "3   POLYGON ((-99.10908 19.45270, -99.10954 19.451...  \n",
       "4   POLYGON ((-99.01853 19.33498, -99.01811 19.333...  \n",
       "..                                                ...  \n",
       "66  POLYGON ((-99.13665 19.40335, -99.13714 19.399...  \n",
       "67  POLYGON ((-99.05166 19.45225, -99.05159 19.452...  \n",
       "68  POLYGON ((-99.12315 19.44263, -99.12331 19.441...  \n",
       "69  POLYGON ((-99.15689 19.50263, -99.15254 19.500...  \n",
       "70  POLYGON ((-99.11224 19.38824, -99.11150 19.384...  \n",
       "\n",
       "[71 rows x 13 columns]"
      ]
     },
     "execution_count": 21,
     "metadata": {},
     "output_type": "execute_result"
    }
   ],
   "source": [
    "coordterrit"
   ]
  },
  {
   "cell_type": "markdown",
   "metadata": {
    "heading_collapsed": true
   },
   "source": [
    "# Gráficas"
   ]
  },
  {
   "cell_type": "code",
   "execution_count": 57,
   "metadata": {
    "ExecuteTime": {
     "end_time": "2020-01-14T03:38:30.236379Z",
     "start_time": "2020-01-14T03:38:27.987106Z"
    },
    "hidden": true
   },
   "outputs": [],
   "source": [
    "from bokeh.plotting import figure, output_file, show\n",
    "from bokeh.layouts import gridplot"
   ]
  },
  {
   "cell_type": "code",
   "execution_count": 58,
   "metadata": {
    "ExecuteTime": {
     "end_time": "2020-01-14T03:38:30.260797Z",
     "start_time": "2020-01-14T03:38:30.248272Z"
    },
    "hidden": true
   },
   "outputs": [],
   "source": [
    "from bokeh.models import HoverTool,ColumnDataSource,BoxSelectTool"
   ]
  },
  {
   "cell_type": "code",
   "execution_count": 59,
   "metadata": {
    "ExecuteTime": {
     "end_time": "2020-01-14T03:38:31.941058Z",
     "start_time": "2020-01-14T03:38:31.931620Z"
    },
    "hidden": true
   },
   "outputs": [],
   "source": [
    "from bokeh.io import output_file\n",
    "# from bokeh.io import output_notebook\n",
    "# output_notebook()"
   ]
  },
  {
   "cell_type": "code",
   "execution_count": 66,
   "metadata": {
    "ExecuteTime": {
     "end_time": "2020-01-14T04:08:15.893643Z",
     "start_time": "2020-01-14T04:08:15.883270Z"
    },
    "hidden": true
   },
   "outputs": [],
   "source": [
    "alcaldias = ['ALVARO OBREGON','AZCAPOTZALCO', 'BENITO JUAREZ', 'COYOACAN',\n",
    "             'CUAJIMALPA DE MORELOS', 'CUAUHTEMOC', 'GUSTAVO A MADERO',\n",
    "             'IZTACALCO', 'IZTAPALAPA', 'LA MAGDALENA CONTRERAS',\n",
    "             'MIGUEL HIDALGO', 'MILPA ALTA', 'TLAHUAC', 'TLALPAN',\n",
    "             'VENUSTIANO CARRANZA', 'XOCHIMILCO']"
   ]
  },
  {
   "cell_type": "code",
   "execution_count": 68,
   "metadata": {
    "ExecuteTime": {
     "end_time": "2020-01-14T04:09:09.212083Z",
     "start_time": "2020-01-14T04:08:52.576165Z"
    },
    "hidden": true
   },
   "outputs": [],
   "source": [
    "figure_list = []\n",
    "for alcaldia in alcaldias:\n",
    "    lista_delitos = []\n",
    "    for delito in df_crimen.query(f\"alcaldia_hechos == '{alcaldia}'\")['delito'].unique():\n",
    "        lista_delitos.append(\n",
    "            [delito,len(df_crimen.query(f\"alcaldia_hechos == '{alcaldia}' and delito == '{delito}'\"))])\n",
    "    df_delitos = pd.DataFrame(lista_delitos,columns = ['Delito' , 'Eventos'])\n",
    "\n",
    "    # orden por delito más frecuente\n",
    "    df_delitos.sort_values(by='Eventos',ascending=False,inplace=True)\n",
    "\n",
    "    # rehacer los indices\n",
    "    df_delitos.set_index(np.arange(len(lista_delitos))+1,inplace=True)\n",
    "    \n",
    "    # bajo impacto\n",
    "    bi = df_delitos.loc[df_delitos['Delito'].isin(bajo_impacto)]\n",
    "    # alto impacto \n",
    "    ai = df_delitos.loc[df_delitos['Delito'].isin(alto_impacto)]\n",
    "    \n",
    "    src_ai = ColumnDataSource(ai)\n",
    "    src_bi = ColumnDataSource(bi)\n",
    "    \n",
    "    \n",
    "    tool_list = [HoverTool()]\n",
    "    # figura\n",
    "    figure_list.append(figure(x_axis_type='log',y_axis_type='log',\n",
    "                              x_axis_label='Delitos', y_axis_label='No. Delitos',\n",
    "                              title=alcaldia,\n",
    "#                               tools = tool_list,\n",
    "                              x_range=(0.8, 200), y_range=(0.8, 400),aspect_scale=1,match_aspect=True))\n",
    "    figure_list[-1].line(df_delitos.index.values,df_delitos.Eventos.values,color='green')\n",
    "    # figure_list[-1].circle(ai.index.values, ai[\"Eventos\"],color='red', fill_alpha=0.2, size=8)\n",
    "    # figure_list[-1].circle(bi.index.values, bi[\"Eventos\"],color='blue', fill_alpha=0.2, size=8)\n",
    "    \n",
    "    figure_list[-1].circle(x='index',y='Eventos',source=src_ai,color='red', fill_alpha=0.2, size=8)\n",
    "    figure_list[-1].circle(x='index',y='Eventos',source=src_bi,color='blue', fill_alpha=0.2, size=8)\n",
    "    \n",
    "    hover1 = HoverTool(tooltips = [('Delito', '@Delito')])\n",
    "#     hover2 = HoverTool(tooltips = [('Delito', '@Delito')]\n",
    "    figure_list[-1].add_tools(hover1)\n",
    "#     figure_list[-1].add_tools(hover2)"
   ]
  },
  {
   "cell_type": "code",
   "execution_count": 69,
   "metadata": {
    "ExecuteTime": {
     "end_time": "2020-01-14T04:09:26.927008Z",
     "start_time": "2020-01-14T04:09:23.844314Z"
    },
    "hidden": true
   },
   "outputs": [],
   "source": [
    "grid = gridplot(figure_list, ncols=4, plot_width=400, plot_height=400)\n",
    "output_file('delitos.html',title='Delitos Febrero 2019')\n",
    "show(grid)"
   ]
  },
  {
   "cell_type": "code",
   "execution_count": null,
   "metadata": {
    "hidden": true
   },
   "outputs": [],
   "source": [
    "https://docs.bokeh.org/en/latest/docs/gallery/iris_splom.html\n",
    "https://docs.bokeh.org/en/latest/docs/gallery/iris.html"
   ]
  }
 ],
 "metadata": {
  "kernelspec": {
   "display_name": "Python 3",
   "language": "python",
   "name": "python3"
  },
  "language_info": {
   "codemirror_mode": {
    "name": "ipython",
    "version": 3
   },
   "file_extension": ".py",
   "mimetype": "text/x-python",
   "name": "python",
   "nbconvert_exporter": "python",
   "pygments_lexer": "ipython3",
   "version": "3.7.3"
  },
  "toc": {
   "base_numbering": 1,
   "nav_menu": {},
   "number_sections": true,
   "sideBar": true,
   "skip_h1_title": false,
   "title_cell": "Table of Contents",
   "title_sidebar": "Contents",
   "toc_cell": false,
   "toc_position": {},
   "toc_section_display": true,
   "toc_window_display": false
  }
 },
 "nbformat": 4,
 "nbformat_minor": 2
}
